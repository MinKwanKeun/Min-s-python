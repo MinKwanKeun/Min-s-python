{
 "cells": [
  {
   "cell_type": "code",
   "execution_count": 1,
   "id": "b0ff5cbe",
   "metadata": {},
   "outputs": [
    {
     "data": {
      "text/plain": [
       "'1.20.3'"
      ]
     },
     "execution_count": 1,
     "metadata": {},
     "output_type": "execute_result"
    }
   ],
   "source": [
    "import numpy as np\n",
    "np.__version__"
   ]
  },
  {
   "cell_type": "markdown",
   "id": "b4b5c49d",
   "metadata": {},
   "source": [
    "# 1. 배열 생성\n"
   ]
  },
  {
   "cell_type": "markdown",
   "id": "bee260e3",
   "metadata": {},
   "source": [
    "### 리스트로 배열 만들기\n",
    "- 1D array, 2D array, 3D array"
   ]
  },
  {
   "cell_type": "code",
   "execution_count": 2,
   "id": "087baf72",
   "metadata": {},
   "outputs": [
    {
     "name": "stdout",
     "output_type": "stream",
     "text": [
      "[1 2 3 4 5]\n",
      "<class 'numpy.ndarray'>\n",
      "(5,)\n",
      "1 2 3 4 5\n",
      "[4 5 6 4 5]\n"
     ]
    }
   ],
   "source": [
    "a1 = np.array([1, 2, 3, 4, 5])\n",
    "print(a1)\n",
    "print(type(a1))\n",
    "print(a1.shape)\n",
    "print(a1[0], a1[1], a1[2], a1[3], a1[4])\n",
    "a1[0] = 4\n",
    "a1[1] = 5\n",
    "a1[2] = 6\n",
    "print(a1)"
   ]
  },
  {
   "cell_type": "code",
   "execution_count": 3,
   "id": "7d52f04a",
   "metadata": {},
   "outputs": [
    {
     "name": "stdout",
     "output_type": "stream",
     "text": [
      "[[1 2 3]\n",
      " [4 5 6]\n",
      " [7 8 9]]\n",
      "(3, 3)\n",
      "1 5 9\n"
     ]
    }
   ],
   "source": [
    "a2 = np.array([ [1, 2, 3], [4, 5, 6], [7, 8, 9] ])\n",
    "print(a2)\n",
    "print(a2.shape)\n",
    "print(a2[0, 0], a2[1, 1], a2[2, 2])"
   ]
  },
  {
   "cell_type": "code",
   "execution_count": 4,
   "id": "08a02640",
   "metadata": {},
   "outputs": [
    {
     "name": "stdout",
     "output_type": "stream",
     "text": [
      "[[[1 2 3]\n",
      "  [4 5 6]\n",
      "  [7 8 9]]\n",
      "\n",
      " [[1 2 3]\n",
      "  [4 5 6]\n",
      "  [7 8 9]]\n",
      "\n",
      " [[1 2 3]\n",
      "  [4 5 6]\n",
      "  [7 8 9]]]\n",
      "(3, 3, 3)\n"
     ]
    }
   ],
   "source": [
    "a3 = np.array([ [ [1, 2, 3], [4, 5, 6], [7, 8, 9] ],\n",
    "                [ [1, 2, 3], [4, 5, 6], [7, 8, 9] ],\n",
    "                [ [1, 2, 3], [4, 5, 6], [7, 8, 9] ] ])\n",
    "print(a3)\n",
    "print(a3.shape)"
   ]
  },
  {
   "cell_type": "markdown",
   "id": "0cb08063",
   "metadata": {},
   "source": [
    "### 배열 생성 및 초기화"
   ]
  },
  {
   "cell_type": "markdown",
   "id": "208b8039",
   "metadata": {},
   "source": [
    " - zeros() : 모든 요소를 0으로 초기화"
   ]
  },
  {
   "cell_type": "code",
   "execution_count": 5,
   "id": "29fe3324",
   "metadata": {},
   "outputs": [
    {
     "data": {
      "text/plain": [
       "array([0., 0., 0., 0., 0., 0., 0., 0., 0., 0.])"
      ]
     },
     "execution_count": 5,
     "metadata": {},
     "output_type": "execute_result"
    }
   ],
   "source": [
    "np.zeros(10) # 10개의 요소를 0으로 초기화된 배열을 만들어줘."
   ]
  },
  {
   "cell_type": "markdown",
   "id": "24edcc5e",
   "metadata": {},
   "source": [
    "- ones() : 모든 요소를 1로 초기화"
   ]
  },
  {
   "cell_type": "code",
   "execution_count": 6,
   "id": "629eabeb",
   "metadata": {},
   "outputs": [
    {
     "data": {
      "text/plain": [
       "array([[1., 1., 1.],\n",
       "       [1., 1., 1.],\n",
       "       [1., 1., 1.]])"
      ]
     },
     "execution_count": 6,
     "metadata": {},
     "output_type": "execute_result"
    }
   ],
   "source": [
    "np.ones((3, 3))"
   ]
  },
  {
   "cell_type": "markdown",
   "id": "c7bc3df0",
   "metadata": {},
   "source": [
    "- full() : 모든 요소를 지정한 값으로 초기화"
   ]
  },
  {
   "cell_type": "code",
   "execution_count": 7,
   "id": "928cd553",
   "metadata": {},
   "outputs": [
    {
     "data": {
      "text/plain": [
       "array([[1.23, 1.23, 1.23],\n",
       "       [1.23, 1.23, 1.23],\n",
       "       [1.23, 1.23, 1.23]])"
      ]
     },
     "execution_count": 7,
     "metadata": {},
     "output_type": "execute_result"
    }
   ],
   "source": [
    "np.full((3, 3), 1.23) # 3 by 3 짜라의 1.23으로 값이 채워진 배열 생성"
   ]
  },
  {
   "cell_type": "markdown",
   "id": "2a64d2b5",
   "metadata": {},
   "source": [
    "- eye() : 단위행렬(identity matrix) 생성\n",
    "> 주대각선의 원소가 모두 1이고 원소는 모두 0인 정사각 행렬"
   ]
  },
  {
   "cell_type": "code",
   "execution_count": 8,
   "id": "6b284405",
   "metadata": {},
   "outputs": [
    {
     "data": {
      "text/plain": [
       "array([[1., 0., 0.],\n",
       "       [0., 1., 0.],\n",
       "       [0., 0., 1.]])"
      ]
     },
     "execution_count": 8,
     "metadata": {},
     "output_type": "execute_result"
    }
   ],
   "source": [
    "np.eye(3)"
   ]
  },
  {
   "cell_type": "markdown",
   "id": "55b5ea01",
   "metadata": {},
   "source": [
    "- tri() : 삼각행렬 생성"
   ]
  },
  {
   "cell_type": "code",
   "execution_count": 9,
   "id": "4e4888b9",
   "metadata": {
    "scrolled": true
   },
   "outputs": [
    {
     "data": {
      "text/plain": [
       "array([[1., 0., 0.],\n",
       "       [1., 1., 0.],\n",
       "       [1., 1., 1.]])"
      ]
     },
     "execution_count": 9,
     "metadata": {},
     "output_type": "execute_result"
    }
   ],
   "source": [
    "np.tri(3)"
   ]
  },
  {
   "cell_type": "markdown",
   "id": "ae26e29e",
   "metadata": {},
   "source": [
    "- empty() : 초기화되지 않은 배열 생성\n",
    "> 초기화가 없어서 배열 생성비용 저렴하고 빠름  \n",
    "> 초기화되지 않아서 기존 메모리 위치에 존재하는 값이 있음"
   ]
  },
  {
   "cell_type": "code",
   "execution_count": 10,
   "id": "5ae44267",
   "metadata": {},
   "outputs": [
    {
     "data": {
      "text/plain": [
       "array([0., 0., 0., 0., 0., 0., 0., 0., 0., 0.])"
      ]
     },
     "execution_count": 10,
     "metadata": {},
     "output_type": "execute_result"
    }
   ],
   "source": [
    "np.empty(10)"
   ]
  },
  {
   "cell_type": "markdown",
   "id": "431e2197",
   "metadata": {},
   "source": [
    "- _like() : 지정된 배열과 shape가 같은 행렬 생성\n",
    "> np.zeros_like()  \n",
    "> np.ones_like()  \n",
    "> np.full_like()  \n",
    "> np.empty_like()"
   ]
  },
  {
   "cell_type": "code",
   "execution_count": 11,
   "id": "e1225df0",
   "metadata": {},
   "outputs": [
    {
     "name": "stdout",
     "output_type": "stream",
     "text": [
      "[4 5 6 4 5]\n"
     ]
    },
    {
     "data": {
      "text/plain": [
       "array([0, 0, 0, 0, 0])"
      ]
     },
     "execution_count": 11,
     "metadata": {},
     "output_type": "execute_result"
    }
   ],
   "source": [
    "print(a1)\n",
    "np.zeros_like(a1)"
   ]
  },
  {
   "cell_type": "code",
   "execution_count": 12,
   "id": "32ab56df",
   "metadata": {},
   "outputs": [
    {
     "name": "stdout",
     "output_type": "stream",
     "text": [
      "[[1 2 3]\n",
      " [4 5 6]\n",
      " [7 8 9]]\n"
     ]
    },
    {
     "data": {
      "text/plain": [
       "array([[1, 1, 1],\n",
       "       [1, 1, 1],\n",
       "       [1, 1, 1]])"
      ]
     },
     "execution_count": 12,
     "metadata": {},
     "output_type": "execute_result"
    }
   ],
   "source": [
    "print(a2)\n",
    "np.ones_like(a2)"
   ]
  },
  {
   "cell_type": "code",
   "execution_count": 13,
   "id": "df27fea9",
   "metadata": {},
   "outputs": [
    {
     "name": "stdout",
     "output_type": "stream",
     "text": [
      "[[[1 2 3]\n",
      "  [4 5 6]\n",
      "  [7 8 9]]\n",
      "\n",
      " [[1 2 3]\n",
      "  [4 5 6]\n",
      "  [7 8 9]]\n",
      "\n",
      " [[1 2 3]\n",
      "  [4 5 6]\n",
      "  [7 8 9]]]\n"
     ]
    },
    {
     "data": {
      "text/plain": [
       "array([[[10, 10, 10],\n",
       "        [10, 10, 10],\n",
       "        [10, 10, 10]],\n",
       "\n",
       "       [[10, 10, 10],\n",
       "        [10, 10, 10],\n",
       "        [10, 10, 10]],\n",
       "\n",
       "       [[10, 10, 10],\n",
       "        [10, 10, 10],\n",
       "        [10, 10, 10]]])"
      ]
     },
     "execution_count": 13,
     "metadata": {},
     "output_type": "execute_result"
    }
   ],
   "source": [
    "print(a3)\n",
    "np.full_like(a3, 10)"
   ]
  },
  {
   "cell_type": "markdown",
   "id": "4d939ac8",
   "metadata": {},
   "source": [
    "### 생성한 값으로 배열 생성"
   ]
  },
  {
   "cell_type": "markdown",
   "id": "b1d1fe14",
   "metadata": {},
   "source": [
    "- arange() : 정수 범위로 배열 생성"
   ]
  },
  {
   "cell_type": "code",
   "execution_count": 14,
   "id": "248d278f",
   "metadata": {},
   "outputs": [
    {
     "data": {
      "text/plain": [
       "array([ 0,  2,  4,  6,  8, 10, 12, 14, 16, 18, 20, 22, 24, 26, 28])"
      ]
     },
     "execution_count": 14,
     "metadata": {},
     "output_type": "execute_result"
    }
   ],
   "source": [
    "np.arange(0, 30, 2)"
   ]
  },
  {
   "cell_type": "markdown",
   "id": "f20a0d19",
   "metadata": {},
   "source": [
    "- linspace() : 범위 내에서 균등 간격의 배열 생성"
   ]
  },
  {
   "cell_type": "code",
   "execution_count": 15,
   "id": "c5adfc41",
   "metadata": {},
   "outputs": [
    {
     "data": {
      "text/plain": [
       "array([0.  , 0.25, 0.5 , 0.75, 1.  ])"
      ]
     },
     "execution_count": 15,
     "metadata": {},
     "output_type": "execute_result"
    }
   ],
   "source": [
    "np.linspace(0, 1, 5)"
   ]
  },
  {
   "cell_type": "markdown",
   "id": "cb37d3c1",
   "metadata": {},
   "source": [
    "- logspace() : 범위 내에서 균등간격으로 로그 스케일로 배열 생성"
   ]
  },
  {
   "cell_type": "code",
   "execution_count": 16,
   "id": "24a56283",
   "metadata": {},
   "outputs": [
    {
     "data": {
      "text/plain": [
       "array([ 1.25892541,  1.40400425,  1.565802  ,  1.74624535,  1.94748304,\n",
       "        2.1719114 ,  2.42220294,  2.70133812,  3.0126409 ,  3.35981829,\n",
       "        3.74700446,  4.17881006,  4.66037703,  5.19743987,  5.79639395,\n",
       "        6.46437163,  7.2093272 ,  8.04013161,  8.9666781 , 10.        ])"
      ]
     },
     "execution_count": 16,
     "metadata": {},
     "output_type": "execute_result"
    }
   ],
   "source": [
    "np.logspace(0.1, 1, 20)"
   ]
  },
  {
   "cell_type": "markdown",
   "id": "72c86066",
   "metadata": {},
   "source": [
    "### 랜덤값으로 배열 생성"
   ]
  },
  {
   "cell_type": "markdown",
   "id": "85afba88",
   "metadata": {},
   "source": [
    "- random.random() : 랜덤한 수의 배열 생성"
   ]
  },
  {
   "cell_type": "code",
   "execution_count": 17,
   "id": "46ea80a6",
   "metadata": {},
   "outputs": [
    {
     "data": {
      "text/plain": [
       "array([[0.81129377, 0.03405418, 0.88614453],\n",
       "       [0.51630369, 0.5334839 , 0.52999543],\n",
       "       [0.47571319, 0.22337318, 0.28702391]])"
      ]
     },
     "execution_count": 17,
     "metadata": {},
     "output_type": "execute_result"
    }
   ],
   "source": [
    "np.random.random((3, 3))"
   ]
  },
  {
   "cell_type": "markdown",
   "id": "8b871a21",
   "metadata": {},
   "source": [
    "- random.randint() : 일정 구간의 랜덤 정수의 배열 생성"
   ]
  },
  {
   "cell_type": "code",
   "execution_count": 18,
   "id": "b52f1ccd",
   "metadata": {},
   "outputs": [
    {
     "data": {
      "text/plain": [
       "array([[8, 6, 4],\n",
       "       [8, 8, 8],\n",
       "       [4, 8, 1]])"
      ]
     },
     "execution_count": 18,
     "metadata": {},
     "output_type": "execute_result"
    }
   ],
   "source": [
    "np.random.randint(0, 10, (3, 3))"
   ]
  },
  {
   "cell_type": "markdown",
   "id": "5748e818",
   "metadata": {},
   "source": [
    "- random.normal() : 정규분포(normal distribution)를 고려한 랜덤한 수의 배열 생성  \n",
    "- 평균 = 0, 표준편차 = 1, 3 x 3 배열"
   ]
  },
  {
   "cell_type": "code",
   "execution_count": 19,
   "id": "c64fefe3",
   "metadata": {},
   "outputs": [
    {
     "data": {
      "text/plain": [
       "array([[-0.18042632, -2.33849369, -0.88501532],\n",
       "       [ 0.12751127,  1.82127901, -0.73540408],\n",
       "       [ 0.10545183,  0.46561266, -0.93002282]])"
      ]
     },
     "execution_count": 19,
     "metadata": {},
     "output_type": "execute_result"
    }
   ],
   "source": [
    "np.random.normal(0, 1, (3, 3))"
   ]
  },
  {
   "cell_type": "markdown",
   "id": "0c8698f2",
   "metadata": {},
   "source": [
    "- random.rand() : 균등분포(uniform distribution)를 고려한 랜덤한 수의 배열 생성"
   ]
  },
  {
   "cell_type": "code",
   "execution_count": 20,
   "id": "5b88721d",
   "metadata": {},
   "outputs": [
    {
     "data": {
      "text/plain": [
       "array([[0.34954842, 0.40544369, 0.42805656],\n",
       "       [0.0205975 , 0.22780659, 0.39759453],\n",
       "       [0.62957502, 0.50197902, 0.88926633]])"
      ]
     },
     "execution_count": 20,
     "metadata": {},
     "output_type": "execute_result"
    }
   ],
   "source": [
    "np.random.rand(3, 3)"
   ]
  },
  {
   "cell_type": "markdown",
   "id": "9fe7f6bb",
   "metadata": {},
   "source": [
    "- random.randn() : 표준 정규 분포(standard normal distribution)를 고려한 랜덤한 수의 배열 생성"
   ]
  },
  {
   "cell_type": "code",
   "execution_count": 21,
   "id": "e5b99339",
   "metadata": {},
   "outputs": [
    {
     "data": {
      "text/plain": [
       "array([[-1.48171888, -0.79277209, -0.27645656],\n",
       "       [ 0.52460364,  0.76189318,  1.65537514],\n",
       "       [ 1.17973461,  0.1423144 , -0.04081415]])"
      ]
     },
     "execution_count": 21,
     "metadata": {},
     "output_type": "execute_result"
    }
   ],
   "source": [
    "np.random.randn(3, 3)"
   ]
  },
  {
   "cell_type": "markdown",
   "id": "59ce29e6",
   "metadata": {},
   "source": [
    "### 표준 데이터 타입"
   ]
  },
  {
   "cell_type": "code",
   "execution_count": 22,
   "id": "0c01fb08",
   "metadata": {},
   "outputs": [
    {
     "data": {
      "text/plain": [
       "array([0, 0, 0, 0, 0, 0, 0, 0, 0, 0, 0, 0, 0, 0, 0, 0, 0, 0, 0, 0])"
      ]
     },
     "execution_count": 22,
     "metadata": {},
     "output_type": "execute_result"
    }
   ],
   "source": [
    "np.zeros(20, dtype=int)"
   ]
  },
  {
   "cell_type": "code",
   "execution_count": 23,
   "id": "e0d472fc",
   "metadata": {},
   "outputs": [
    {
     "data": {
      "text/plain": [
       "array([[ True,  True,  True],\n",
       "       [ True,  True,  True],\n",
       "       [ True,  True,  True]])"
      ]
     },
     "execution_count": 23,
     "metadata": {},
     "output_type": "execute_result"
    }
   ],
   "source": [
    "np.ones((3, 3), dtype=bool)"
   ]
  },
  {
   "cell_type": "code",
   "execution_count": 24,
   "id": "edfed7ba",
   "metadata": {},
   "outputs": [
    {
     "data": {
      "text/plain": [
       "array([[1., 1., 1.],\n",
       "       [1., 1., 1.],\n",
       "       [1., 1., 1.]])"
      ]
     },
     "execution_count": 24,
     "metadata": {},
     "output_type": "execute_result"
    }
   ],
   "source": [
    "np.full((3, 3), 1.0, dtype=float)"
   ]
  },
  {
   "cell_type": "markdown",
   "id": "7aefbe9b",
   "metadata": {},
   "source": [
    "### 날짜/시간 배열 생성"
   ]
  },
  {
   "cell_type": "code",
   "execution_count": 25,
   "id": "5f840eb3",
   "metadata": {},
   "outputs": [
    {
     "data": {
      "text/plain": [
       "array('2020-01-01', dtype='datetime64[D]')"
      ]
     },
     "execution_count": 25,
     "metadata": {},
     "output_type": "execute_result"
    }
   ],
   "source": [
    "date = np.array('2020-01-01', dtype=np.datetime64)\n",
    "date"
   ]
  },
  {
   "cell_type": "code",
   "execution_count": 26,
   "id": "173c4348",
   "metadata": {},
   "outputs": [
    {
     "data": {
      "text/plain": [
       "array(['2020-01-01', '2020-01-02', '2020-01-03', '2020-01-04',\n",
       "       '2020-01-05', '2020-01-06', '2020-01-07', '2020-01-08',\n",
       "       '2020-01-09', '2020-01-10', '2020-01-11', '2020-01-12'],\n",
       "      dtype='datetime64[D]')"
      ]
     },
     "execution_count": 26,
     "metadata": {},
     "output_type": "execute_result"
    }
   ],
   "source": [
    "date + np.arange(12)"
   ]
  },
  {
   "cell_type": "code",
   "execution_count": 27,
   "id": "2bf7e6ac",
   "metadata": {},
   "outputs": [
    {
     "data": {
      "text/plain": [
       "numpy.datetime64('2020-01-01T12:00')"
      ]
     },
     "execution_count": 27,
     "metadata": {},
     "output_type": "execute_result"
    }
   ],
   "source": [
    "datetime = np.datetime64('2020-01-01 12:00')\n",
    "datetime"
   ]
  },
  {
   "cell_type": "code",
   "execution_count": 28,
   "id": "285df5d1",
   "metadata": {},
   "outputs": [
    {
     "data": {
      "text/plain": [
       "numpy.datetime64('2020-06-01T12:00:12.340000000')"
      ]
     },
     "execution_count": 28,
     "metadata": {},
     "output_type": "execute_result"
    }
   ],
   "source": [
    "datetime = np.datetime64('2020-06-01 12:00:12.34', 'ns')\n",
    "datetime"
   ]
  },
  {
   "cell_type": "markdown",
   "id": "d5f22c28",
   "metadata": {},
   "source": [
    "# 2. 배열 조회"
   ]
  },
  {
   "cell_type": "markdown",
   "id": "b968c416",
   "metadata": {},
   "source": [
    "## 배열 속성 정보"
   ]
  },
  {
   "cell_type": "code",
   "execution_count": 29,
   "id": "8c1fdcee",
   "metadata": {},
   "outputs": [],
   "source": [
    "def array_info(array):\n",
    "    print(array)\n",
    "    print('ndim :', array.ndim) # 디멘젼이 몇인지 나타내줌\n",
    "    print('shape : ', array.shape)\n",
    "    print('dtype : ', array.dtype)\n",
    "    print('size : ', array.size)\n",
    "    print('itemsize : ', array.itemsize)\n",
    "    print('nbytes : ', array.nbytes)\n",
    "    print('strides : ', array.strides)"
   ]
  },
  {
   "cell_type": "code",
   "execution_count": 30,
   "id": "6b782cbb",
   "metadata": {},
   "outputs": [
    {
     "name": "stdout",
     "output_type": "stream",
     "text": [
      "[4 5 6 4 5]\n",
      "ndim : 1\n",
      "shape :  (5,)\n",
      "dtype :  int32\n",
      "size :  5\n",
      "itemsize :  4\n",
      "nbytes :  20\n",
      "strides :  (4,)\n"
     ]
    }
   ],
   "source": [
    "array_info(a1)"
   ]
  },
  {
   "cell_type": "code",
   "execution_count": 31,
   "id": "b6d8796b",
   "metadata": {},
   "outputs": [
    {
     "name": "stdout",
     "output_type": "stream",
     "text": [
      "[[1 2 3]\n",
      " [4 5 6]\n",
      " [7 8 9]]\n",
      "ndim : 2\n",
      "shape :  (3, 3)\n",
      "dtype :  int32\n",
      "size :  9\n",
      "itemsize :  4\n",
      "nbytes :  36\n",
      "strides :  (12, 4)\n"
     ]
    }
   ],
   "source": [
    "array_info(a2)"
   ]
  },
  {
   "cell_type": "code",
   "execution_count": 32,
   "id": "0d37d6b8",
   "metadata": {},
   "outputs": [
    {
     "name": "stdout",
     "output_type": "stream",
     "text": [
      "[[[1 2 3]\n",
      "  [4 5 6]\n",
      "  [7 8 9]]\n",
      "\n",
      " [[1 2 3]\n",
      "  [4 5 6]\n",
      "  [7 8 9]]\n",
      "\n",
      " [[1 2 3]\n",
      "  [4 5 6]\n",
      "  [7 8 9]]]\n",
      "ndim : 3\n",
      "shape :  (3, 3, 3)\n",
      "dtype :  int32\n",
      "size :  27\n",
      "itemsize :  4\n",
      "nbytes :  108\n",
      "strides :  (36, 12, 4)\n"
     ]
    }
   ],
   "source": [
    "array_info(a3)"
   ]
  },
  {
   "cell_type": "markdown",
   "id": "65b1752d",
   "metadata": {},
   "source": [
    "## 인덱싱(Indexing)"
   ]
  },
  {
   "cell_type": "code",
   "execution_count": 33,
   "id": "eea06b34",
   "metadata": {},
   "outputs": [
    {
     "name": "stdout",
     "output_type": "stream",
     "text": [
      "[4 5 6 4 5]\n",
      "4\n",
      "6\n",
      "5\n",
      "4\n"
     ]
    }
   ],
   "source": [
    "print(a1)\n",
    "print(a1[0])\n",
    "print(a1[2])\n",
    "print(a1[-1])\n",
    "print(a1[-2])"
   ]
  },
  {
   "cell_type": "code",
   "execution_count": 34,
   "id": "b8cd613f",
   "metadata": {},
   "outputs": [
    {
     "name": "stdout",
     "output_type": "stream",
     "text": [
      "[[1 2 3]\n",
      " [4 5 6]\n",
      " [7 8 9]]\n",
      "1\n",
      "3\n",
      "5\n",
      "9\n"
     ]
    }
   ],
   "source": [
    "print(a2)\n",
    "print(a2[0, 0])\n",
    "print(a2[0, 2])\n",
    "print(a2[1, 1])\n",
    "print(a2[2, -1])"
   ]
  },
  {
   "cell_type": "code",
   "execution_count": 35,
   "id": "8a797569",
   "metadata": {},
   "outputs": [
    {
     "name": "stdout",
     "output_type": "stream",
     "text": [
      "[[[1 2 3]\n",
      "  [4 5 6]\n",
      "  [7 8 9]]\n",
      "\n",
      " [[1 2 3]\n",
      "  [4 5 6]\n",
      "  [7 8 9]]\n",
      "\n",
      " [[1 2 3]\n",
      "  [4 5 6]\n",
      "  [7 8 9]]]\n",
      "1\n",
      "5\n",
      "9\n",
      "9\n"
     ]
    }
   ],
   "source": [
    "print(a3)\n",
    "print(a3[0, 0, 0])\n",
    "print(a3[1, 1, 1])\n",
    "print(a3[2, 2, 2])\n",
    "print(a3[2, -1, -1])"
   ]
  },
  {
   "cell_type": "markdown",
   "id": "8101554f",
   "metadata": {},
   "source": [
    "## 슬라이싱(Slicing)"
   ]
  },
  {
   "cell_type": "markdown",
   "id": "b123e8f9",
   "metadata": {},
   "source": [
    "- 슬라이싱 구문 : a[start:stop:step]  \n",
    "- 기본값 : start = 0, stop = ndim, step = 1"
   ]
  },
  {
   "cell_type": "code",
   "execution_count": 36,
   "id": "21190d5c",
   "metadata": {},
   "outputs": [
    {
     "name": "stdout",
     "output_type": "stream",
     "text": [
      "[4 5 6 4 5]\n",
      "[4 5]\n",
      "[4 5 6 4 5]\n",
      "[4]\n",
      "[4 6 5]\n",
      "[5 4 6 5 4]\n"
     ]
    }
   ],
   "source": [
    "print(a1)\n",
    "print(a1[0:2])\n",
    "print(a1[0:])\n",
    "print(a1[:1])\n",
    "print(a1[::2])\n",
    "print(a1[::-1])"
   ]
  },
  {
   "cell_type": "code",
   "execution_count": 37,
   "id": "26dd8534",
   "metadata": {},
   "outputs": [
    {
     "name": "stdout",
     "output_type": "stream",
     "text": [
      "[[1 2 3]\n",
      " [4 5 6]\n",
      " [7 8 9]]\n",
      "[4 5 6]\n",
      "[4 5 6]\n",
      "[[1 2]\n",
      " [4 5]]\n",
      "[[6 5 4]\n",
      " [9 8 7]]\n",
      "[[9 8 7]\n",
      " [6 5 4]\n",
      " [3 2 1]]\n"
     ]
    }
   ],
   "source": [
    "print(a2)\n",
    "print(a2[1])\n",
    "print(a2[1, :])\n",
    "print(a2[:2, :2])\n",
    "print(a2[1:, ::-1])\n",
    "print(a2[::-1, ::-1])"
   ]
  },
  {
   "cell_type": "markdown",
   "id": "1c5b2f67",
   "metadata": {},
   "source": [
    "## 불리언 인덱싱(Boolean Indexing)\n",
    "- 배열 각 요소의 선택 여부를 불리언(True or False)로 지정  \n",
    "- True 값인 인덱스의 값만 조회"
   ]
  },
  {
   "cell_type": "code",
   "execution_count": 38,
   "id": "e412c2ff",
   "metadata": {},
   "outputs": [
    {
     "name": "stdout",
     "output_type": "stream",
     "text": [
      "[4 5 6 4 5]\n",
      "[5 6 5]\n",
      "[4 6 4]\n"
     ]
    }
   ],
   "source": [
    "print(a1)\n",
    "bi = [False, True, True, False, True]\n",
    "print(a1[bi])\n",
    "bi = [True, False, True, True, False]\n",
    "print(a1[bi])"
   ]
  },
  {
   "cell_type": "code",
   "execution_count": 39,
   "id": "ebb2f516",
   "metadata": {},
   "outputs": [
    {
     "name": "stdout",
     "output_type": "stream",
     "text": [
      "[[1 2 3]\n",
      " [4 5 6]\n",
      " [7 8 9]]\n",
      "[[ True  True False]\n",
      " [ True False False]\n",
      " [ True  True False]]\n",
      "[1 2 4 7 8]\n"
     ]
    }
   ],
   "source": [
    "print(a2)\n",
    "bi = np.random.randint(0, 2, (3, 3), dtype=bool)\n",
    "print(bi)\n",
    "print(a2[bi])"
   ]
  },
  {
   "cell_type": "markdown",
   "id": "18bba4cf",
   "metadata": {},
   "source": [
    "## 펜시 인덱싱(Fancy Indexing)"
   ]
  },
  {
   "cell_type": "code",
   "execution_count": 40,
   "id": "e88c41ee",
   "metadata": {},
   "outputs": [
    {
     "name": "stdout",
     "output_type": "stream",
     "text": [
      "[4 5 6 4 5]\n",
      "[4, 6]\n",
      "[4 6]\n",
      "[[4 5]\n",
      " [6 4]]\n"
     ]
    }
   ],
   "source": [
    "print(a1)\n",
    "print([a1[0], a1[2]])\n",
    "ind = [0, 2]\n",
    "print(a1[ind])\n",
    "ind = np.array([[0, 1],\n",
    "               [2, 0]])\n",
    "print(a1[ind])"
   ]
  },
  {
   "cell_type": "code",
   "execution_count": 41,
   "id": "e24f9f08",
   "metadata": {
    "scrolled": true
   },
   "outputs": [
    {
     "name": "stdout",
     "output_type": "stream",
     "text": [
      "[[1 2 3]\n",
      " [4 5 6]\n",
      " [7 8 9]]\n",
      "[2 9]\n",
      "[[1 2 3]\n",
      " [7 8 9]]\n",
      "[[2 3]\n",
      " [5 6]\n",
      " [8 9]]\n",
      "[2 8]\n",
      "[8 9]\n",
      "[[2 3]\n",
      " [8 9]]\n",
      "[[5 6]\n",
      " [8 9]]\n"
     ]
    }
   ],
   "source": [
    "print(a2)\n",
    "row = np.array([0, 2])\n",
    "col = np.array([1, 2])\n",
    "print(a2[row, col])\n",
    "print(a2[row, :])\n",
    "print(a2[:, col])\n",
    "print(a2[row, 1])\n",
    "print(a2[2, col])\n",
    "print(a2[row, 1:])\n",
    "print(a2[1:, col])"
   ]
  },
  {
   "cell_type": "markdown",
   "id": "deabc8c8",
   "metadata": {},
   "source": [
    "## 3. 배열 값 삽입/수정/삭제/복사"
   ]
  },
  {
   "cell_type": "markdown",
   "id": "4563d770",
   "metadata": {},
   "source": [
    "### 배열 값 삽입\n",
    "- insert(): 배열의 특정 위치에 값 삽입  \n",
    "- axis를 지정하지 않으면 1차원 배열로 변환  \n",
    "- 추가할 방향을 axis로 지정  \n",
    "- 원본 배열 변경없이 새로운 배열 반환"
   ]
  },
  {
   "cell_type": "code",
   "execution_count": 42,
   "id": "6a229d28",
   "metadata": {},
   "outputs": [
    {
     "name": "stdout",
     "output_type": "stream",
     "text": [
      "[4 5 6 4 5]\n",
      "[10  4  5  6  4  5]\n",
      "[ 4  5 10  6  4  5]\n"
     ]
    }
   ],
   "source": [
    "print(a1)\n",
    "b1 = np.insert(a1, 0, 10)\n",
    "print(b1)\n",
    "c1 = np.insert(a1, 2, 10)\n",
    "print(c1)"
   ]
  },
  {
   "cell_type": "code",
   "execution_count": 43,
   "id": "591360fd",
   "metadata": {},
   "outputs": [
    {
     "name": "stdout",
     "output_type": "stream",
     "text": [
      "[[1 2 3]\n",
      " [4 5 6]\n",
      " [7 8 9]]\n",
      "[[ 1  2  3]\n",
      " [10 10 10]\n",
      " [ 4  5  6]\n",
      " [ 7  8  9]]\n",
      "[[ 1 10  2  3]\n",
      " [ 4 10  5  6]\n",
      " [ 7 10  8  9]]\n"
     ]
    }
   ],
   "source": [
    "print(a2)\n",
    "b2 = np.insert(a2, 1, 10, axis=0)\n",
    "print(b2)\n",
    "c2 = np.insert(a2, 1, 10, axis=1)\n",
    "print(c2)"
   ]
  },
  {
   "cell_type": "markdown",
   "id": "25874fe2",
   "metadata": {},
   "source": [
    "### 배열 값 수정\n",
    "- 배열의 인덱싱으로 접근하여 값 수정"
   ]
  },
  {
   "cell_type": "code",
   "execution_count": 44,
   "id": "8380f87b",
   "metadata": {},
   "outputs": [
    {
     "name": "stdout",
     "output_type": "stream",
     "text": [
      "[4 5 6 4 5]\n",
      "[1 2 3 4 5]\n",
      "[9 2 3 4 5]\n",
      "[9 0 3 0 0]\n",
      "[9 4 3 4 4]\n"
     ]
    }
   ],
   "source": [
    "print(a1)\n",
    "a1[0] = 1\n",
    "a1[1] = 2\n",
    "a1[2] = 3\n",
    "print(a1)\n",
    "a1[:1] = 9\n",
    "print(a1)\n",
    "i = np.array([1, 3, 4]) # 팬시 인덱싱\n",
    "a1[i] = 0\n",
    "print(a1)\n",
    "a1[i] += 4\n",
    "print(a1)"
   ]
  },
  {
   "cell_type": "code",
   "execution_count": 45,
   "id": "e838f0a4",
   "metadata": {},
   "outputs": [
    {
     "name": "stdout",
     "output_type": "stream",
     "text": [
      "[[1 2 3]\n",
      " [4 5 6]\n",
      " [7 8 9]]\n",
      "[[1 1 1]\n",
      " [4 2 6]\n",
      " [7 8 3]]\n",
      "[[1 1 1]\n",
      " [4 2 9]\n",
      " [7 8 9]]\n",
      "[[1 0 1]\n",
      " [4 2 0]\n",
      " [7 8 9]]\n"
     ]
    }
   ],
   "source": [
    "print(a2)\n",
    "a2[0, 0] = 1\n",
    "a2[1, 1] = 2\n",
    "a2[2, 2] = 3\n",
    "a2[0] = 1\n",
    "print(a2)\n",
    "a2[1:, 2] = 9\n",
    "print(a2)\n",
    "row = np.array([0, 1])\n",
    "col = np.array([1, 2])\n",
    "a2[row, col] = 0 # 팬시 인덱싱\n",
    "print(a2)"
   ]
  },
  {
   "cell_type": "markdown",
   "id": "ec63495d",
   "metadata": {},
   "source": [
    "### 배열 값 삭제\n",
    "- delete() : 배열의 특정 위치에 값 삭제  \n",
    "- axis를 지정하지 않으면 1차원 배열로 전환  \n",
    "- 삭제할 방향을 axis로 지정  \n",
    "- 원본 배열 변경없이 새로운 배열 반환"
   ]
  },
  {
   "cell_type": "code",
   "execution_count": 46,
   "id": "a9e2150b",
   "metadata": {},
   "outputs": [
    {
     "name": "stdout",
     "output_type": "stream",
     "text": [
      "[9 4 3 4 4]\n",
      "[9 3 4 4]\n",
      "[9 4 3 4 4]\n"
     ]
    }
   ],
   "source": [
    "print(a1)\n",
    "b1 = np.delete(a1, 1)\n",
    "print(b1)\n",
    "print(a1)"
   ]
  },
  {
   "cell_type": "code",
   "execution_count": 47,
   "id": "716c2a66",
   "metadata": {},
   "outputs": [
    {
     "name": "stdout",
     "output_type": "stream",
     "text": [
      "[[1 0 1]\n",
      " [4 2 0]\n",
      " [7 8 9]]\n",
      "[[1 0 1]\n",
      " [7 8 9]]\n",
      "[[1 1]\n",
      " [4 0]\n",
      " [7 9]]\n"
     ]
    }
   ],
   "source": [
    "print(a2)\n",
    "b2 = np.delete(a2, 1, axis=0)\n",
    "print(b2)\n",
    "c2 = np.delete(a2, 1, axis=1)\n",
    "print(c2)"
   ]
  },
  {
   "cell_type": "markdown",
   "id": "f783d990",
   "metadata": {},
   "source": [
    "### 배열 복사\n",
    " - 리스트 자료형과 달리 배열의 슬라이스는 복사본이 아님"
   ]
  },
  {
   "cell_type": "code",
   "execution_count": 48,
   "id": "9177c020",
   "metadata": {},
   "outputs": [
    {
     "name": "stdout",
     "output_type": "stream",
     "text": [
      "[[1 0 1]\n",
      " [4 2 0]\n",
      " [7 8 9]]\n",
      "[[1 0]\n",
      " [4 2]]\n",
      "[[1 0]\n",
      " [4 2]]\n",
      "[[1 0]\n",
      " [4 0]]\n",
      "[[1 0 1]\n",
      " [4 0 0]\n",
      " [7 8 9]]\n"
     ]
    }
   ],
   "source": [
    "print(a2)\n",
    "print(a2[:2, :2])\n",
    "a2_sub = a2[:2, :2] # copy() 를 안쓰면 원본까지 바뀜\n",
    "print(a2_sub)\n",
    "a2_sub[:, 1] = 0\n",
    "print(a2_sub)\n",
    "print(a2)"
   ]
  },
  {
   "cell_type": "markdown",
   "id": "6b790f4d",
   "metadata": {},
   "source": [
    "- copy() : 배열이나 하위 배열 내의 값을 명시적으로 복사"
   ]
  },
  {
   "cell_type": "code",
   "execution_count": 49,
   "id": "683e099a",
   "metadata": {},
   "outputs": [
    {
     "name": "stdout",
     "output_type": "stream",
     "text": [
      "[[1 0 1]\n",
      " [4 0 0]\n",
      " [7 8 9]]\n",
      "[[1 0]\n",
      " [4 0]]\n",
      "[[1 1]\n",
      " [4 1]]\n",
      "[[1 0 1]\n",
      " [4 0 0]\n",
      " [7 8 9]]\n"
     ]
    }
   ],
   "source": [
    "print(a2)\n",
    "a2_sub_copy = a2[:2, :2].copy() # copy() 를 써서 원본 안바뀜\n",
    "print(a2_sub_copy)\n",
    "a2_sub_copy[:, 1] = 1\n",
    "print(a2_sub_copy)\n",
    "print(a2)"
   ]
  },
  {
   "cell_type": "markdown",
   "id": "728c4b2c",
   "metadata": {},
   "source": [
    "## 4. 배열 변환"
   ]
  },
  {
   "cell_type": "markdown",
   "id": "07e187f5",
   "metadata": {},
   "source": [
    "### 배열 전치 및 축 변경"
   ]
  },
  {
   "cell_type": "code",
   "execution_count": 50,
   "id": "0b381998",
   "metadata": {},
   "outputs": [
    {
     "name": "stdout",
     "output_type": "stream",
     "text": [
      "[[1 0 1]\n",
      " [4 0 0]\n",
      " [7 8 9]]\n",
      "[[1 4 7]\n",
      " [0 0 8]\n",
      " [1 0 9]]\n"
     ]
    }
   ],
   "source": [
    "print(a2)\n",
    "print(a2.T)"
   ]
  },
  {
   "cell_type": "code",
   "execution_count": 51,
   "id": "72a68100",
   "metadata": {},
   "outputs": [
    {
     "name": "stdout",
     "output_type": "stream",
     "text": [
      "[[[1 2 3]\n",
      "  [4 5 6]\n",
      "  [7 8 9]]\n",
      "\n",
      " [[1 2 3]\n",
      "  [4 5 6]\n",
      "  [7 8 9]]\n",
      "\n",
      " [[1 2 3]\n",
      "  [4 5 6]\n",
      "  [7 8 9]]]\n",
      "[[[1 1 1]\n",
      "  [4 4 4]\n",
      "  [7 7 7]]\n",
      "\n",
      " [[2 2 2]\n",
      "  [5 5 5]\n",
      "  [8 8 8]]\n",
      "\n",
      " [[3 3 3]\n",
      "  [6 6 6]\n",
      "  [9 9 9]]]\n"
     ]
    }
   ],
   "source": [
    "print(a3)\n",
    "print(a3.T)"
   ]
  },
  {
   "cell_type": "code",
   "execution_count": 52,
   "id": "f66deb14",
   "metadata": {},
   "outputs": [
    {
     "name": "stdout",
     "output_type": "stream",
     "text": [
      "[[1 0 1]\n",
      " [4 0 0]\n",
      " [7 8 9]]\n",
      "[[1 4 7]\n",
      " [0 0 8]\n",
      " [1 0 9]]\n"
     ]
    }
   ],
   "source": [
    "print(a2)\n",
    "print(a2.swapaxes(1, 0))"
   ]
  },
  {
   "cell_type": "code",
   "execution_count": 53,
   "id": "db8f4d04",
   "metadata": {},
   "outputs": [
    {
     "name": "stdout",
     "output_type": "stream",
     "text": [
      "[[[1 2 3]\n",
      "  [4 5 6]\n",
      "  [7 8 9]]\n",
      "\n",
      " [[1 2 3]\n",
      "  [4 5 6]\n",
      "  [7 8 9]]\n",
      "\n",
      " [[1 2 3]\n",
      "  [4 5 6]\n",
      "  [7 8 9]]]\n",
      "[[[1 2 3]\n",
      "  [1 2 3]\n",
      "  [1 2 3]]\n",
      "\n",
      " [[4 5 6]\n",
      "  [4 5 6]\n",
      "  [4 5 6]]\n",
      "\n",
      " [[7 8 9]\n",
      "  [7 8 9]\n",
      "  [7 8 9]]]\n",
      "[[[1 4 7]\n",
      "  [2 5 8]\n",
      "  [3 6 9]]\n",
      "\n",
      " [[1 4 7]\n",
      "  [2 5 8]\n",
      "  [3 6 9]]\n",
      "\n",
      " [[1 4 7]\n",
      "  [2 5 8]\n",
      "  [3 6 9]]]\n"
     ]
    }
   ],
   "source": [
    "print(a3)\n",
    "print(a3.swapaxes(0, 1))\n",
    "print(a3.swapaxes(1, 2))"
   ]
  },
  {
   "cell_type": "markdown",
   "id": "bc1fd374",
   "metadata": {},
   "source": [
    "### 배열 재구조화"
   ]
  },
  {
   "cell_type": "markdown",
   "id": "73866676",
   "metadata": {},
   "source": [
    "- reshape() : 배열의 형상을 변경"
   ]
  },
  {
   "cell_type": "code",
   "execution_count": 54,
   "id": "94ebcb86",
   "metadata": {},
   "outputs": [
    {
     "name": "stdout",
     "output_type": "stream",
     "text": [
      "[1 2 3 4 5 6 7 8 9]\n",
      "[[1 2 3]\n",
      " [4 5 6]\n",
      " [7 8 9]]\n"
     ]
    }
   ],
   "source": [
    "n1 = np.arange(1, 10)\n",
    "print(n1)\n",
    "print(n1.reshape(3, 3))"
   ]
  },
  {
   "cell_type": "markdown",
   "id": "0aac6d43",
   "metadata": {},
   "source": [
    "- newaxis() : 새로운 축 추가"
   ]
  },
  {
   "cell_type": "code",
   "execution_count": 55,
   "id": "76477345",
   "metadata": {},
   "outputs": [
    {
     "name": "stdout",
     "output_type": "stream",
     "text": [
      "[1 2 3 4 5 6 7 8 9]\n",
      "[[1 2 3 4 5]]\n",
      "[[1]\n",
      " [2]\n",
      " [3]\n",
      " [4]\n",
      " [5]]\n"
     ]
    }
   ],
   "source": [
    "print(n1)\n",
    "print(n1[np.newaxis, :5])\n",
    "print(n1[:5, np.newaxis])"
   ]
  },
  {
   "cell_type": "markdown",
   "id": "38628f94",
   "metadata": {},
   "source": [
    "### 배열 크기 변경"
   ]
  },
  {
   "cell_type": "markdown",
   "id": "35818994",
   "metadata": {},
   "source": [
    "- 배열 모양만 변경"
   ]
  },
  {
   "cell_type": "code",
   "execution_count": 56,
   "id": "442b4557",
   "metadata": {},
   "outputs": [
    {
     "name": "stdout",
     "output_type": "stream",
     "text": [
      "[[9 8 7 8 8]\n",
      " [1 5 9 0 4]]\n",
      "[[9 8]\n",
      " [7 8]\n",
      " [8 1]\n",
      " [5 9]\n",
      " [0 4]]\n"
     ]
    }
   ],
   "source": [
    "n2 = np.random.randint(0, 10, (2, 5))\n",
    "print(n2)\n",
    "n2.resize((5, 2))\n",
    "print(n2)"
   ]
  },
  {
   "cell_type": "markdown",
   "id": "8914e1cd",
   "metadata": {},
   "source": [
    "- 배열 크기 증가  \n",
    "- 남은 공간은 0으로 채워짐"
   ]
  },
  {
   "cell_type": "code",
   "execution_count": 57,
   "id": "d9bad5fa",
   "metadata": {},
   "outputs": [
    {
     "name": "stdout",
     "output_type": "stream",
     "text": [
      "[[9 8 7 8 8]\n",
      " [1 5 9 0 4]\n",
      " [0 0 0 0 0]\n",
      " [0 0 0 0 0]\n",
      " [0 0 0 0 0]]\n"
     ]
    }
   ],
   "source": [
    "n2.resize((5, 5))\n",
    "print(n2)"
   ]
  },
  {
   "cell_type": "markdown",
   "id": "3c46ea04",
   "metadata": {},
   "source": [
    "- 배열 크기 감소  \n",
    "- 포함되지 않은 값은 삭제됨"
   ]
  },
  {
   "cell_type": "code",
   "execution_count": 58,
   "id": "899e239f",
   "metadata": {},
   "outputs": [
    {
     "name": "stdout",
     "output_type": "stream",
     "text": [
      "[[9 8 7]\n",
      " [8 8 1]\n",
      " [5 9 0]]\n"
     ]
    }
   ],
   "source": [
    "n2.resize((3, 3))\n",
    "print(n2)"
   ]
  },
  {
   "cell_type": "markdown",
   "id": "b85d2558",
   "metadata": {},
   "source": [
    "### 배열 추가"
   ]
  },
  {
   "cell_type": "markdown",
   "id": "180e8b2d",
   "metadata": {},
   "source": [
    "- append() : 배열의 끝에 값 추가"
   ]
  },
  {
   "cell_type": "code",
   "execution_count": 59,
   "id": "81cb5ba9",
   "metadata": {},
   "outputs": [
    {
     "name": "stdout",
     "output_type": "stream",
     "text": [
      "[[1 2 3]\n",
      " [4 5 6]\n",
      " [7 8 9]]\n",
      "[[10 11 12]\n",
      " [13 14 15]\n",
      " [16 17 18]]\n"
     ]
    }
   ],
   "source": [
    "a2 = np.arange(1, 10).reshape(3, 3)\n",
    "print(a2)\n",
    "b2 = np.arange(10, 19).reshape(3, 3)\n",
    "print(b2)"
   ]
  },
  {
   "cell_type": "markdown",
   "id": "bf609655",
   "metadata": {},
   "source": [
    "- axis 지정이 없으면 1차원 배열 형태로 변형되어 결합"
   ]
  },
  {
   "cell_type": "code",
   "execution_count": 60,
   "id": "3bb0156a",
   "metadata": {},
   "outputs": [
    {
     "name": "stdout",
     "output_type": "stream",
     "text": [
      "[ 1  2  3  4  5  6  7  8  9 10 11 12 13 14 15 16 17 18]\n"
     ]
    }
   ],
   "source": [
    "c2 = np.append(a2, b2)\n",
    "print(c2)"
   ]
  },
  {
   "cell_type": "markdown",
   "id": "24246d3c",
   "metadata": {},
   "source": [
    "- axis를 0으로 지정  \n",
    "- shape[0]을 제외한 나머지 shape은 같아야 함"
   ]
  },
  {
   "cell_type": "code",
   "execution_count": 61,
   "id": "0a6d3a59",
   "metadata": {},
   "outputs": [
    {
     "name": "stdout",
     "output_type": "stream",
     "text": [
      "[[ 1  2  3]\n",
      " [ 4  5  6]\n",
      " [ 7  8  9]\n",
      " [10 11 12]\n",
      " [13 14 15]\n",
      " [16 17 18]]\n"
     ]
    }
   ],
   "source": [
    "c2 = np.append(a2, b2, axis=0)\n",
    "print(c2)"
   ]
  },
  {
   "cell_type": "markdown",
   "id": "85fa1b63",
   "metadata": {},
   "source": [
    "- axis를 1로 지정  \n",
    "- shape[1]을 제외한 나머지 shape은 같아야 함"
   ]
  },
  {
   "cell_type": "code",
   "execution_count": 62,
   "id": "de07bb79",
   "metadata": {},
   "outputs": [
    {
     "name": "stdout",
     "output_type": "stream",
     "text": [
      "[[ 1  2  3 10 11 12]\n",
      " [ 4  5  6 13 14 15]\n",
      " [ 7  8  9 16 17 18]]\n"
     ]
    }
   ],
   "source": [
    "c2 = np.append(a2, b2, axis=1)\n",
    "print(c2)"
   ]
  },
  {
   "cell_type": "markdown",
   "id": "1468edff",
   "metadata": {},
   "source": [
    "### 배열 연결"
   ]
  },
  {
   "cell_type": "markdown",
   "id": "a1a4e34d",
   "metadata": {},
   "source": [
    "- concatenate() : 튜플이나 배열의 리스트를 인수로 사용해 배열 연결"
   ]
  },
  {
   "cell_type": "code",
   "execution_count": 63,
   "id": "ba0f581f",
   "metadata": {},
   "outputs": [
    {
     "data": {
      "text/plain": [
       "array([1, 3, 5, 2, 4, 6])"
      ]
     },
     "execution_count": 63,
     "metadata": {},
     "output_type": "execute_result"
    }
   ],
   "source": [
    "a1 = np.array([1, 3, 5])\n",
    "b1 = np.array([2, 4, 6])\n",
    "np.concatenate([a1, b1])"
   ]
  },
  {
   "cell_type": "code",
   "execution_count": 64,
   "id": "aea0b524",
   "metadata": {},
   "outputs": [
    {
     "data": {
      "text/plain": [
       "array([1, 3, 5, 2, 4, 6, 7, 8, 9])"
      ]
     },
     "execution_count": 64,
     "metadata": {},
     "output_type": "execute_result"
    }
   ],
   "source": [
    "c1 = np.array([7, 8, 9])\n",
    "np.concatenate([a1, b1, c1])"
   ]
  },
  {
   "cell_type": "code",
   "execution_count": 67,
   "id": "b0455785",
   "metadata": {},
   "outputs": [
    {
     "data": {
      "text/plain": [
       "array([[1, 2, 3],\n",
       "       [4, 5, 6],\n",
       "       [1, 2, 3],\n",
       "       [4, 5, 6]])"
      ]
     },
     "execution_count": 67,
     "metadata": {},
     "output_type": "execute_result"
    }
   ],
   "source": [
    "a2 = np.array([[1, 2, 3],\n",
    "              [4, 5, 6]])\n",
    "np.concatenate([a2, a2])"
   ]
  },
  {
   "cell_type": "code",
   "execution_count": 68,
   "id": "fbd4433e",
   "metadata": {},
   "outputs": [
    {
     "data": {
      "text/plain": [
       "array([[1, 2, 3, 1, 2, 3],\n",
       "       [4, 5, 6, 4, 5, 6]])"
      ]
     },
     "execution_count": 68,
     "metadata": {},
     "output_type": "execute_result"
    }
   ],
   "source": [
    "a2 = np.array([[1, 2, 3],\n",
    "              [4, 5, 6]])\n",
    "np.concatenate([a2, a2], axis=1)"
   ]
  },
  {
   "cell_type": "markdown",
   "id": "7ddb94d9",
   "metadata": {},
   "source": [
    "- vstack() : 수직 스택(vertical stack), 1차원으로 연결"
   ]
  },
  {
   "cell_type": "code",
   "execution_count": 69,
   "id": "ab77e7da",
   "metadata": {},
   "outputs": [
    {
     "data": {
      "text/plain": [
       "array([[1, 2, 3],\n",
       "       [4, 5, 6],\n",
       "       [1, 2, 3],\n",
       "       [4, 5, 6]])"
      ]
     },
     "execution_count": 69,
     "metadata": {},
     "output_type": "execute_result"
    }
   ],
   "source": [
    "np.vstack([a2, a2])"
   ]
  },
  {
   "cell_type": "markdown",
   "id": "3bef50ed",
   "metadata": {},
   "source": [
    "- hstack() : 수평 스택(horizontal stack), 2차원으로 연결"
   ]
  },
  {
   "cell_type": "code",
   "execution_count": 70,
   "id": "546b482b",
   "metadata": {},
   "outputs": [
    {
     "data": {
      "text/plain": [
       "array([[1, 2, 3, 1, 2, 3],\n",
       "       [4, 5, 6, 4, 5, 6]])"
      ]
     },
     "execution_count": 70,
     "metadata": {},
     "output_type": "execute_result"
    }
   ],
   "source": [
    "np.hstack([a2, a2])"
   ]
  },
  {
   "cell_type": "markdown",
   "id": "73fea155",
   "metadata": {},
   "source": [
    "- dstack() : 깊이 스택(depth stack), 3차원으로 연결"
   ]
  },
  {
   "cell_type": "code",
   "execution_count": 71,
   "id": "94b7ff62",
   "metadata": {},
   "outputs": [
    {
     "data": {
      "text/plain": [
       "array([[[1, 1],\n",
       "        [2, 2],\n",
       "        [3, 3]],\n",
       "\n",
       "       [[4, 4],\n",
       "        [5, 5],\n",
       "        [6, 6]]])"
      ]
     },
     "execution_count": 71,
     "metadata": {},
     "output_type": "execute_result"
    }
   ],
   "source": [
    "np.dstack([a2, a2])"
   ]
  },
  {
   "cell_type": "markdown",
   "id": "532fd336",
   "metadata": {},
   "source": [
    "- stack() : 새로운 차원으로 연결"
   ]
  },
  {
   "cell_type": "code",
   "execution_count": 72,
   "id": "f35fe552",
   "metadata": {},
   "outputs": [
    {
     "data": {
      "text/plain": [
       "array([[[1, 2, 3],\n",
       "        [4, 5, 6]],\n",
       "\n",
       "       [[1, 2, 3],\n",
       "        [4, 5, 6]]])"
      ]
     },
     "execution_count": 72,
     "metadata": {},
     "output_type": "execute_result"
    }
   ],
   "source": [
    "np.stack([a2, a2])"
   ]
  },
  {
   "cell_type": "markdown",
   "id": "02a42dad",
   "metadata": {},
   "source": [
    "### 배열 분할"
   ]
  },
  {
   "cell_type": "markdown",
   "id": "33d30041",
   "metadata": {},
   "source": [
    "- split() : 배열 분할"
   ]
  },
  {
   "cell_type": "code",
   "execution_count": 75,
   "id": "73ab47d4",
   "metadata": {},
   "outputs": [
    {
     "name": "stdout",
     "output_type": "stream",
     "text": [
      "[0 1 2 3 4 5 6 7 8 9]\n",
      "[0 1 2 3 4] [5 6 7 8 9]\n",
      "[0 1] [2 3] [4 5] [6 7] [8 9]\n"
     ]
    }
   ],
   "source": [
    "a1 = np.arange(0, 10)\n",
    "print(a1)\n",
    "b1, c1 = np.split(a1, [5])\n",
    "print(b1, c1)\n",
    "b1, c1, d1, e1, f1 = np.split(a1, [2, 4, 6, 8])\n",
    "print(b1, c1, d1, e1, f1)"
   ]
  },
  {
   "cell_type": "markdown",
   "id": "f1edc063",
   "metadata": {},
   "source": [
    "- vsplit() : 수직 분할, 1차원으로 분할"
   ]
  },
  {
   "cell_type": "code",
   "execution_count": 77,
   "id": "cf396663",
   "metadata": {},
   "outputs": [
    {
     "name": "stdout",
     "output_type": "stream",
     "text": [
      "[[1 2 3]\n",
      " [4 5 6]\n",
      " [7 8 9]]\n",
      "[[1 2 3]\n",
      " [4 5 6]]\n",
      "[[7 8 9]]\n"
     ]
    }
   ],
   "source": [
    "a2 = np.arange(1, 10).reshape(3, 3)\n",
    "print(a2)\n",
    "b2, c2 = np.vsplit(a2, [2])\n",
    "print(b2)\n",
    "print(c2)"
   ]
  },
  {
   "cell_type": "markdown",
   "id": "2a7bf778",
   "metadata": {},
   "source": [
    "- hsplit() : 수평 분할, 2차원으로 분할"
   ]
  },
  {
   "cell_type": "code",
   "execution_count": 78,
   "id": "6b043c02",
   "metadata": {},
   "outputs": [
    {
     "name": "stdout",
     "output_type": "stream",
     "text": [
      "[[1 2 3]\n",
      " [4 5 6]\n",
      " [7 8 9]]\n",
      "[[1 2]\n",
      " [4 5]\n",
      " [7 8]]\n",
      "[[3]\n",
      " [6]\n",
      " [9]]\n"
     ]
    }
   ],
   "source": [
    "a2 = np.arange(1, 10).reshape(3, 3)\n",
    "print(a2)\n",
    "b2, c2 = np.hsplit(a2, [2])\n",
    "print(b2)\n",
    "print(c2)"
   ]
  },
  {
   "cell_type": "markdown",
   "id": "4cc89f47",
   "metadata": {},
   "source": [
    "- dsplit() : 깊이 분할, 3차원으로 분할"
   ]
  },
  {
   "cell_type": "code",
   "execution_count": 80,
   "id": "12aafb94",
   "metadata": {},
   "outputs": [
    {
     "name": "stdout",
     "output_type": "stream",
     "text": [
      "[[[ 1  2  3]\n",
      "  [ 4  5  6]\n",
      "  [ 7  8  9]]\n",
      "\n",
      " [[10 11 12]\n",
      "  [13 14 15]\n",
      "  [16 17 18]]\n",
      "\n",
      " [[19 20 21]\n",
      "  [22 23 24]\n",
      "  [25 26 27]]]\n",
      "[[[ 1  2]\n",
      "  [ 4  5]\n",
      "  [ 7  8]]\n",
      "\n",
      " [[10 11]\n",
      "  [13 14]\n",
      "  [16 17]]\n",
      "\n",
      " [[19 20]\n",
      "  [22 23]\n",
      "  [25 26]]]\n",
      "[[[ 3]\n",
      "  [ 6]\n",
      "  [ 9]]\n",
      "\n",
      " [[12]\n",
      "  [15]\n",
      "  [18]]\n",
      "\n",
      " [[21]\n",
      "  [24]\n",
      "  [27]]]\n"
     ]
    }
   ],
   "source": [
    "a3 = np.arange(1, 28).reshape(3, 3, 3)\n",
    "print(a3)\n",
    "b3, c3 = np.dsplit(a3, [2])\n",
    "print(b3)\n",
    "print(c3)"
   ]
  },
  {
   "cell_type": "markdown",
   "id": "b0a1e75d",
   "metadata": {},
   "source": [
    "## 5. 배열 연산"
   ]
  },
  {
   "cell_type": "markdown",
   "id": "bef9975b",
   "metadata": {},
   "source": [
    "- NumPy의 배열 연산은 벡터화(vectorized) 연산을 사용  \n",
    "- 일반적으로 NumPy의 범용 함수(universal functions)를 통해 구현  \n",
    "- 배열 요소에 대한 반복적인 계산을 효율적으로 수행"
   ]
  },
  {
   "cell_type": "markdown",
   "id": "042d46b2",
   "metadata": {},
   "source": [
    "### 브로드캐스팅(Broadcasting)"
   ]
  },
  {
   "cell_type": "code",
   "execution_count": 83,
   "id": "0f30a593",
   "metadata": {},
   "outputs": [
    {
     "name": "stdout",
     "output_type": "stream",
     "text": [
      "[1 2 3]\n",
      "[6 7 8]\n",
      "[[1 2 3]\n",
      " [4 5 6]\n",
      " [7 8 9]]\n",
      "[[ 2  4  6]\n",
      " [ 5  7  9]\n",
      " [ 8 10 12]]\n",
      "[[1]\n",
      " [2]\n",
      " [3]]\n",
      "[[2 3 4]\n",
      " [3 4 5]\n",
      " [4 5 6]]\n"
     ]
    }
   ],
   "source": [
    "a1 = np.array([1, 2, 3])\n",
    "print(a1)\n",
    "print(a1 + 5)\n",
    "\n",
    "a2 = np.arange(1, 10).reshape(3, 3)\n",
    "print(a2)\n",
    "print(a1+ a2)\n",
    "\n",
    "b2 = np.array([1, 2, 3]).reshape(3, 1)\n",
    "print(b2)\n",
    "print(a1 + b2)"
   ]
  },
  {
   "cell_type": "markdown",
   "id": "13e9768f",
   "metadata": {},
   "source": [
    "### 산술 연산(Arithmetic Operators)"
   ]
  },
  {
   "cell_type": "code",
   "execution_count": 97,
   "id": "9e8d5dc1",
   "metadata": {},
   "outputs": [
    {
     "name": "stdout",
     "output_type": "stream",
     "text": [
      "[1 2 3 4 5 6 7 8 9]\n",
      "[ 2  3  4  5  6  7  8  9 10]\n",
      "[11 12 13 14 15 16 17 18 19]\n",
      "[-1  0  1  2  3  4  5  6  7]\n",
      "[-9 -8 -7 -6 -5 -4 -3 -2 -1]\n",
      "[-1 -2 -3 -4 -5 -6 -7 -8 -9]\n",
      "[-1 -2 -3 -4 -5 -6 -7 -8 -9]\n",
      "[ 2  4  6  8 10 12 14 16 18]\n",
      "[ 2  4  6  8 10 12 14 16 18]\n",
      "[0.5 1.  1.5 2.  2.5 3.  3.5 4.  4.5]\n",
      "[0.5 1.  1.5 2.  2.5 3.  3.5 4.  4.5]\n",
      "[0 1 1 2 2 3 3 4 4]\n",
      "[0 1 1 2 2 3 3 4 4]\n",
      "[ 1  4  9 16 25 36 49 64 81]\n",
      "[ 1  4  9 16 25 36 49 64 81]\n",
      "[1 0 1 0 1 0 1 0 1]\n",
      "[1 0 1 0 1 0 1 0 1]\n"
     ]
    }
   ],
   "source": [
    "a1 = np.arange(1, 10)\n",
    "print(a1)\n",
    "print(a1 + 1)\n",
    "print(np.add(a1, 10))\n",
    "print(a1 - 2)\n",
    "print(np.subtract(a1, 10))\n",
    "print(-a1)\n",
    "print(np.negative(a1))\n",
    "print(a1 * 2)\n",
    "print(np.multiply(a1, 2))\n",
    "print(a1 / 2)\n",
    "print(np.divide(a1, 2))\n",
    "print(a1 // 2)\n",
    "print(np.floor_divide(a1, 2)) # floor_ 는 '내림'\n",
    "print(a1 ** 2)\n",
    "print(np.power(a1, 2)) # a1[idx] * a1[idx]\n",
    "print(a1 % 2)\n",
    "print(np.mod(a1, 2))"
   ]
  },
  {
   "cell_type": "code",
   "execution_count": 99,
   "id": "7f15f259",
   "metadata": {},
   "outputs": [
    {
     "name": "stdout",
     "output_type": "stream",
     "text": [
      "[1 2 3 4 5 6 7 8 9]\n",
      "[1 8 6 9 3 1 7 1 9]\n",
      "[ 2 10  9 13  8  7 14  9 18]\n",
      "[ 0 -6 -3 -5  2  5  0  7  0]\n",
      "[ 1 16 18 36 15  6 49  8 81]\n",
      "[1.         0.25       0.5        0.44444444 1.66666667 6.\n",
      " 1.         8.         1.        ]\n",
      "[1 0 0 0 1 6 1 8 1]\n",
      "[        1       256       729    262144       125         6    823543\n",
      "         8 387420489]\n",
      "[0 2 3 4 2 0 0 0 0]\n"
     ]
    }
   ],
   "source": [
    "a1 = np.arange(1, 10)\n",
    "print(a1)\n",
    "b1 = np.random.randint(1, 10, size=9)\n",
    "print(b1)\n",
    "print(a1 + b1)\n",
    "print(a1 - b1)\n",
    "print(a1 * b1)\n",
    "print(a1 / b1)\n",
    "print(a1 // b1)\n",
    "print(a1 ** b1)\n",
    "print(a1 % b1)"
   ]
  },
  {
   "cell_type": "code",
   "execution_count": 101,
   "id": "e167844c",
   "metadata": {},
   "outputs": [
    {
     "name": "stdout",
     "output_type": "stream",
     "text": [
      "[[1 2 3]\n",
      " [4 5 6]\n",
      " [7 8 9]]\n",
      "[[4 5 1]\n",
      " [3 6 3]\n",
      " [3 6 5]]\n",
      "[[ 5  7  4]\n",
      " [ 7 11  9]\n",
      " [10 14 14]]\n",
      "[[-3 -3  2]\n",
      " [ 1 -1  3]\n",
      " [ 4  2  4]]\n",
      "[[ 4 10  3]\n",
      " [12 30 18]\n",
      " [21 48 45]]\n",
      "[[0.25       0.4        3.        ]\n",
      " [1.33333333 0.83333333 2.        ]\n",
      " [2.33333333 1.33333333 1.8       ]]\n",
      "[[0 0 3]\n",
      " [1 0 2]\n",
      " [2 1 1]]\n",
      "[[     1     32      3]\n",
      " [    64  15625    216]\n",
      " [   343 262144  59049]]\n",
      "[[1 2 0]\n",
      " [1 5 0]\n",
      " [1 2 4]]\n"
     ]
    }
   ],
   "source": [
    "a2 = np.arange(1, 10).reshape(3, 3)\n",
    "print(a2)\n",
    "b2 = np.random.randint(1, 10, size=(3, 3))\n",
    "print(b2)\n",
    "print(a2 + b2)\n",
    "print(a2 - b2)\n",
    "print(a2 * b2)\n",
    "print(a2 / b2)\n",
    "print(a2 // b2)\n",
    "print(a2 ** b2)\n",
    "print(a2 % b2)"
   ]
  },
  {
   "cell_type": "markdown",
   "id": "9fa0133d",
   "metadata": {},
   "source": [
    "절대값 함수(Absolute Function)\n",
    "- absolute(), abs() : 내장된 절대값 함수"
   ]
  },
  {
   "cell_type": "code",
   "execution_count": 106,
   "id": "a023e524",
   "metadata": {},
   "outputs": [
    {
     "name": "stdout",
     "output_type": "stream",
     "text": [
      "[-7 -5  4 -3  6]\n",
      "[7 5 4 3 6]\n",
      "[7 5 4 3 6]\n"
     ]
    }
   ],
   "source": [
    "a1 = np.random.randint(-10, 10, size = 5)\n",
    "print(a1)\n",
    "print(np.absolute(a1))\n",
    "print(np.abs(a1))"
   ]
  },
  {
   "cell_type": "markdown",
   "id": "15b60821",
   "metadata": {},
   "source": [
    "제곱/제곱근 함수\n",
    "- square, sqrt : 제곱, 제곱근 함수"
   ]
  },
  {
   "cell_type": "code",
   "execution_count": 107,
   "id": "68dfdd76",
   "metadata": {},
   "outputs": [
    {
     "name": "stdout",
     "output_type": "stream",
     "text": [
      "[-7 -5  4 -3  6]\n",
      "[49 25 16  9 36]\n",
      "[       nan        nan 2.                nan 2.44948974]\n"
     ]
    },
    {
     "name": "stderr",
     "output_type": "stream",
     "text": [
      "C:\\Users\\MKK\\AppData\\Local\\Temp/ipykernel_4988/2033102379.py:3: RuntimeWarning: invalid value encountered in sqrt\n",
      "  print(np.sqrt(a1))\n"
     ]
    }
   ],
   "source": [
    "print(a1)\n",
    "print(np.square(a1))\n",
    "print(np.sqrt(a1))"
   ]
  },
  {
   "cell_type": "markdown",
   "id": "9e1beb05",
   "metadata": {},
   "source": [
    "지수와 로그 함수 (Exponential and Log Function)"
   ]
  },
  {
   "cell_type": "code",
   "execution_count": 110,
   "id": "e172a8be",
   "metadata": {},
   "outputs": [
    {
     "name": "stdout",
     "output_type": "stream",
     "text": [
      "[7 9 4 4 4]\n",
      "[1096.63315843 8103.08392758   54.59815003   54.59815003   54.59815003]\n",
      "[128. 512.  16.  16.  16.]\n",
      "[49 81 16 16 16]\n"
     ]
    }
   ],
   "source": [
    "a1 = np.random.randint(1, 10, size=5)\n",
    "print(a1)\n",
    "print(np.exp(a1)) # exp -> e의 거듭제곱\n",
    "print(np.exp2(a1)) # exp2 -> 2의 거듭제곱\n",
    "print(np.power(a1, 2))"
   ]
  },
  {
   "cell_type": "code",
   "execution_count": 111,
   "id": "a64b3fb6",
   "metadata": {},
   "outputs": [
    {
     "name": "stdout",
     "output_type": "stream",
     "text": [
      "[7 9 4 4 4]\n",
      "[1.94591015 2.19722458 1.38629436 1.38629436 1.38629436]\n",
      "[2.80735492 3.169925   2.         2.         2.        ]\n",
      "[0.84509804 0.95424251 0.60205999 0.60205999 0.60205999]\n"
     ]
    }
   ],
   "source": [
    "print(a1)\n",
    "print(np.log(a1))\n",
    "print(np.log2(a1))\n",
    "print(np.log10(a1))"
   ]
  },
  {
   "cell_type": "markdown",
   "id": "125b40cb",
   "metadata": {},
   "source": [
    "삼각 함수(Trigonometical Function)"
   ]
  },
  {
   "cell_type": "code",
   "execution_count": 113,
   "id": "5ca72b8c",
   "metadata": {},
   "outputs": [
    {
     "name": "stdout",
     "output_type": "stream",
     "text": [
      "[0.         1.57079633 3.14159265]\n",
      "[0.0000000e+00 1.0000000e+00 1.2246468e-16]\n",
      "[ 1.000000e+00  6.123234e-17 -1.000000e+00]\n",
      "[ 0.00000000e+00  1.63312394e+16 -1.22464680e-16]\n"
     ]
    }
   ],
   "source": [
    "t = np.linspace(0, np.pi, 3)\n",
    "print(t)\n",
    "print(np.sin(t))\n",
    "print(np.cos(t))\n",
    "print(np.tan(t))"
   ]
  },
  {
   "cell_type": "code",
   "execution_count": 114,
   "id": "7fa9149a",
   "metadata": {},
   "outputs": [
    {
     "name": "stdout",
     "output_type": "stream",
     "text": [
      "[-1, 0, 1]\n",
      "[-1.57079633  0.          1.57079633]\n",
      "[3.14159265 1.57079633 0.        ]\n",
      "[-0.78539816  0.          0.78539816]\n"
     ]
    }
   ],
   "source": [
    "x = [-1, 0, 1]\n",
    "print(x)\n",
    "print(np.arcsin(x))\n",
    "print(np.arccos(x))\n",
    "print(np.arctan(x))"
   ]
  },
  {
   "cell_type": "markdown",
   "id": "67f55b77",
   "metadata": {},
   "source": [
    "### 집계 함수(Aggregate Functions)"
   ]
  },
  {
   "cell_type": "markdown",
   "id": "dacc67ee",
   "metadata": {},
   "source": [
    "sum() : 합 계산"
   ]
  },
  {
   "cell_type": "code",
   "execution_count": 115,
   "id": "dff092b3",
   "metadata": {},
   "outputs": [
    {
     "name": "stdout",
     "output_type": "stream",
     "text": [
      "[[4 1 3]\n",
      " [3 2 3]\n",
      " [3 6 2]]\n",
      "27 27\n",
      "[10  9  8] [10  9  8]\n",
      "[ 8  8 11] [ 8  8 11]\n"
     ]
    }
   ],
   "source": [
    "a2 = np.random.randint(1, 10, size=(3, 3))\n",
    "print(a2)\n",
    "print(a2.sum(), np.sum(a2))\n",
    "print(a2.sum(axis=0), np.sum(a2, axis=0))\n",
    "print(a2.sum(axis=1), np.sum(a2, axis=1))"
   ]
  },
  {
   "cell_type": "markdown",
   "id": "0b251248",
   "metadata": {},
   "source": [
    "cumsum() : 누적합 계산"
   ]
  },
  {
   "cell_type": "code",
   "execution_count": 118,
   "id": "6080da4b",
   "metadata": {},
   "outputs": [
    {
     "name": "stdout",
     "output_type": "stream",
     "text": [
      "[[4 1 3]\n",
      " [3 2 3]\n",
      " [3 6 2]]\n",
      "[ 4  5  8 11 13 16 19 25 27]\n",
      "[[ 4  1  3]\n",
      " [ 7  3  6]\n",
      " [10  9  8]]\n",
      "[[ 4  5  8]\n",
      " [ 3  5  8]\n",
      " [ 3  9 11]]\n"
     ]
    }
   ],
   "source": [
    "print(a2)\n",
    "print(np.cumsum(a2))\n",
    "print(np.cumsum(a2, axis=0))\n",
    "print(np.cumsum(a2, axis=1))"
   ]
  },
  {
   "cell_type": "markdown",
   "id": "0442666d",
   "metadata": {},
   "source": [
    "diff() : 차분 계산"
   ]
  },
  {
   "cell_type": "code",
   "execution_count": 119,
   "id": "c122f350",
   "metadata": {},
   "outputs": [
    {
     "name": "stdout",
     "output_type": "stream",
     "text": [
      "[[4 1 3]\n",
      " [3 2 3]\n",
      " [3 6 2]]\n",
      "[[-3  2]\n",
      " [-1  1]\n",
      " [ 3 -4]]\n",
      "[[-1  1  0]\n",
      " [ 0  4 -1]]\n",
      "[[-3  2]\n",
      " [-1  1]\n",
      " [ 3 -4]]\n"
     ]
    }
   ],
   "source": [
    "print(a2)\n",
    "print(np.diff(a2))\n",
    "print(np.diff(a2, axis=0))\n",
    "print(np.diff(a2, axis=1))"
   ]
  },
  {
   "cell_type": "markdown",
   "id": "bed21b9b",
   "metadata": {},
   "source": [
    "prod() : 곱 계산"
   ]
  },
  {
   "cell_type": "code",
   "execution_count": 120,
   "id": "3f0a60e7",
   "metadata": {},
   "outputs": [
    {
     "name": "stdout",
     "output_type": "stream",
     "text": [
      "[[4 1 3]\n",
      " [3 2 3]\n",
      " [3 6 2]]\n",
      "7776\n",
      "[36 12 18]\n",
      "[12 18 36]\n"
     ]
    }
   ],
   "source": [
    "print(a2)\n",
    "print(np.prod(a2))\n",
    "print(np.prod(a2, axis=0))\n",
    "print(np.prod(a2, axis=1))"
   ]
  },
  {
   "cell_type": "markdown",
   "id": "9f4d04ce",
   "metadata": {},
   "source": [
    "cumprod() : 누적곱 계산"
   ]
  },
  {
   "cell_type": "code",
   "execution_count": 121,
   "id": "5c967cac",
   "metadata": {},
   "outputs": [
    {
     "name": "stdout",
     "output_type": "stream",
     "text": [
      "[[4 1 3]\n",
      " [3 2 3]\n",
      " [3 6 2]]\n",
      "[   4    4   12   36   72  216  648 3888 7776]\n",
      "[[ 4  1  3]\n",
      " [12  2  9]\n",
      " [36 12 18]]\n",
      "[[ 4  4 12]\n",
      " [ 3  6 18]\n",
      " [ 3 18 36]]\n"
     ]
    }
   ],
   "source": [
    "print(a2)\n",
    "print(np.cumprod(a2))\n",
    "print(np.cumprod(a2, axis=0))\n",
    "print(np.cumprod(a2, axis=1))"
   ]
  },
  {
   "cell_type": "markdown",
   "id": "891051ca",
   "metadata": {},
   "source": [
    "dot() / matmul() : 점곱/행렬곱 계산"
   ]
  },
  {
   "cell_type": "code",
   "execution_count": 122,
   "id": "c1f398f3",
   "metadata": {},
   "outputs": [
    {
     "name": "stdout",
     "output_type": "stream",
     "text": [
      "[[4 1 3]\n",
      " [3 2 3]\n",
      " [3 6 2]]\n",
      "[[1 1 1]\n",
      " [1 1 1]\n",
      " [1 1 1]]\n",
      "[[ 8  8  8]\n",
      " [ 8  8  8]\n",
      " [11 11 11]]\n",
      "[[ 8  8  8]\n",
      " [ 8  8  8]\n",
      " [11 11 11]]\n"
     ]
    }
   ],
   "source": [
    "print(a2)\n",
    "b2 = np.ones_like(a2)\n",
    "print(b2)\n",
    "print(np.dot(a2, b2))\n",
    "print(np.matmul(a2, b2))"
   ]
  },
  {
   "cell_type": "markdown",
   "id": "12639b03",
   "metadata": {},
   "source": [
    "tensordot() : 텐서곱 계산"
   ]
  },
  {
   "cell_type": "code",
   "execution_count": 124,
   "id": "9ff152be",
   "metadata": {},
   "outputs": [
    {
     "name": "stdout",
     "output_type": "stream",
     "text": [
      "[[4 1 3]\n",
      " [3 2 3]\n",
      " [3 6 2]]\n",
      "[[1 1 1]\n",
      " [1 1 1]\n",
      " [1 1 1]]\n",
      "27\n",
      "[[[[4 4 4]\n",
      "   [4 4 4]\n",
      "   [4 4 4]]\n",
      "\n",
      "  [[1 1 1]\n",
      "   [1 1 1]\n",
      "   [1 1 1]]\n",
      "\n",
      "  [[3 3 3]\n",
      "   [3 3 3]\n",
      "   [3 3 3]]]\n",
      "\n",
      "\n",
      " [[[3 3 3]\n",
      "   [3 3 3]\n",
      "   [3 3 3]]\n",
      "\n",
      "  [[2 2 2]\n",
      "   [2 2 2]\n",
      "   [2 2 2]]\n",
      "\n",
      "  [[3 3 3]\n",
      "   [3 3 3]\n",
      "   [3 3 3]]]\n",
      "\n",
      "\n",
      " [[[3 3 3]\n",
      "   [3 3 3]\n",
      "   [3 3 3]]\n",
      "\n",
      "  [[6 6 6]\n",
      "   [6 6 6]\n",
      "   [6 6 6]]\n",
      "\n",
      "  [[2 2 2]\n",
      "   [2 2 2]\n",
      "   [2 2 2]]]]\n",
      "[[ 8  8  8]\n",
      " [ 8  8  8]\n",
      " [11 11 11]]\n"
     ]
    }
   ],
   "source": [
    "print(a2)\n",
    "print(b2)\n",
    "print(np.tensordot(a2, b2))\n",
    "print(np.tensordot(a2, b2, axes=0))\n",
    "print(np.tensordot(a2, b2, axes=1))"
   ]
  },
  {
   "cell_type": "markdown",
   "id": "eb183ec4",
   "metadata": {},
   "source": [
    "cross() : 벡터곱"
   ]
  },
  {
   "cell_type": "code",
   "execution_count": 125,
   "id": "b4019a0d",
   "metadata": {},
   "outputs": [
    {
     "name": "stdout",
     "output_type": "stream",
     "text": [
      "[-3  6 -3]\n"
     ]
    }
   ],
   "source": [
    "x = [1, 2, 3]\n",
    "y = [4, 5, 6]\n",
    "print(np.cross(x, y))"
   ]
  },
  {
   "cell_type": "markdown",
   "id": "35f39b42",
   "metadata": {},
   "source": [
    "inner() / outer() : 내적 / 외적"
   ]
  },
  {
   "cell_type": "code",
   "execution_count": 126,
   "id": "6a52ac53",
   "metadata": {},
   "outputs": [
    {
     "name": "stdout",
     "output_type": "stream",
     "text": [
      "[[4 1 3]\n",
      " [3 2 3]\n",
      " [3 6 2]]\n",
      "[[1 1 1]\n",
      " [1 1 1]\n",
      " [1 1 1]]\n",
      "[[ 8  8  8]\n",
      " [ 8  8  8]\n",
      " [11 11 11]]\n",
      "[[4 4 4 4 4 4 4 4 4]\n",
      " [1 1 1 1 1 1 1 1 1]\n",
      " [3 3 3 3 3 3 3 3 3]\n",
      " [3 3 3 3 3 3 3 3 3]\n",
      " [2 2 2 2 2 2 2 2 2]\n",
      " [3 3 3 3 3 3 3 3 3]\n",
      " [3 3 3 3 3 3 3 3 3]\n",
      " [6 6 6 6 6 6 6 6 6]\n",
      " [2 2 2 2 2 2 2 2 2]]\n"
     ]
    }
   ],
   "source": [
    "print(a2)\n",
    "print(b2)\n",
    "print(np.inner(a2, b2))\n",
    "print(np.outer(a2, b2))"
   ]
  },
  {
   "cell_type": "markdown",
   "id": "20218998",
   "metadata": {},
   "source": [
    "mean() : 평균 계산"
   ]
  },
  {
   "cell_type": "code",
   "execution_count": 127,
   "id": "9c1a97a2",
   "metadata": {},
   "outputs": [
    {
     "name": "stdout",
     "output_type": "stream",
     "text": [
      "[[4 1 3]\n",
      " [3 2 3]\n",
      " [3 6 2]]\n",
      "3.0\n",
      "[3.33333333 3.         2.66666667]\n",
      "[2.66666667 2.66666667 3.66666667]\n"
     ]
    }
   ],
   "source": [
    "print(a2)\n",
    "print(np.mean(a2))\n",
    "print(np.mean(a2, axis=0))\n",
    "print(np.mean(a2, axis=1))"
   ]
  },
  {
   "cell_type": "markdown",
   "id": "49ea422b",
   "metadata": {},
   "source": [
    "std() : 표준 편차 계산"
   ]
  },
  {
   "cell_type": "code",
   "execution_count": 128,
   "id": "09d58611",
   "metadata": {},
   "outputs": [
    {
     "name": "stdout",
     "output_type": "stream",
     "text": [
      "[[4 1 3]\n",
      " [3 2 3]\n",
      " [3 6 2]]\n",
      "1.3333333333333333\n",
      "[0.47140452 2.1602469  0.47140452]\n",
      "[1.24721913 0.47140452 1.69967317]\n"
     ]
    }
   ],
   "source": [
    "print(a2)\n",
    "print(np.std(a2))\n",
    "print(np.std(a2, axis=0))\n",
    "print(np.std(a2, axis=1))"
   ]
  },
  {
   "cell_type": "markdown",
   "id": "9c6ef2e7",
   "metadata": {},
   "source": [
    "var() : 분산 계산"
   ]
  },
  {
   "cell_type": "code",
   "execution_count": 129,
   "id": "935a32fd",
   "metadata": {},
   "outputs": [
    {
     "name": "stdout",
     "output_type": "stream",
     "text": [
      "[[4 1 3]\n",
      " [3 2 3]\n",
      " [3 6 2]]\n",
      "1.7777777777777777\n",
      "[0.22222222 4.66666667 0.22222222]\n",
      "[1.55555556 0.22222222 2.88888889]\n"
     ]
    }
   ],
   "source": [
    "print(a2)\n",
    "print(np.var(a2))\n",
    "print(np.var(a2, axis=0))\n",
    "print(np.var(a2, axis=1))"
   ]
  },
  {
   "cell_type": "markdown",
   "id": "11d1a3a5",
   "metadata": {},
   "source": [
    "min() : 최소값"
   ]
  },
  {
   "cell_type": "code",
   "execution_count": 130,
   "id": "8eebf31a",
   "metadata": {},
   "outputs": [
    {
     "name": "stdout",
     "output_type": "stream",
     "text": [
      "[[4 1 3]\n",
      " [3 2 3]\n",
      " [3 6 2]]\n",
      "1\n",
      "[3 1 2]\n",
      "[1 2 2]\n"
     ]
    }
   ],
   "source": [
    "print(a2)\n",
    "print(np.min(a2))\n",
    "print(np.min(a2, axis=0))\n",
    "print(np.min(a2, axis=1))"
   ]
  },
  {
   "cell_type": "markdown",
   "id": "3e2e96f4",
   "metadata": {},
   "source": [
    "max() : 최대값"
   ]
  },
  {
   "cell_type": "code",
   "execution_count": 131,
   "id": "0103190a",
   "metadata": {},
   "outputs": [
    {
     "name": "stdout",
     "output_type": "stream",
     "text": [
      "[[4 1 3]\n",
      " [3 2 3]\n",
      " [3 6 2]]\n",
      "6\n",
      "[4 6 3]\n",
      "[4 3 6]\n"
     ]
    }
   ],
   "source": [
    "print(a2)\n",
    "print(np.max(a2))\n",
    "print(np.max(a2, axis=0))\n",
    "print(np.max(a2, axis=1))"
   ]
  },
  {
   "cell_type": "markdown",
   "id": "a3cb66a3",
   "metadata": {},
   "source": [
    "argmin() : 최소값 인덱스"
   ]
  },
  {
   "cell_type": "code",
   "execution_count": 132,
   "id": "3b63e98d",
   "metadata": {},
   "outputs": [
    {
     "name": "stdout",
     "output_type": "stream",
     "text": [
      "[[4 1 3]\n",
      " [3 2 3]\n",
      " [3 6 2]]\n",
      "1\n",
      "[1 0 2]\n",
      "[1 1 2]\n"
     ]
    }
   ],
   "source": [
    "print(a2)\n",
    "print(np.argmin(a2))\n",
    "print(np.argmin(a2, axis=0))\n",
    "print(np.argmin(a2, axis=1))"
   ]
  },
  {
   "cell_type": "markdown",
   "id": "bff5cdbd",
   "metadata": {},
   "source": [
    "argmax() : 최대값 인덱스"
   ]
  },
  {
   "cell_type": "code",
   "execution_count": 133,
   "id": "545aad82",
   "metadata": {},
   "outputs": [
    {
     "name": "stdout",
     "output_type": "stream",
     "text": [
      "[[4 1 3]\n",
      " [3 2 3]\n",
      " [3 6 2]]\n",
      "7\n",
      "[0 2 0]\n",
      "[0 0 1]\n"
     ]
    }
   ],
   "source": [
    "print(a2)\n",
    "print(np.argmax(a2))\n",
    "print(np.argmax(a2, axis=0))\n",
    "print(np.argmax(a2, axis=1))"
   ]
  },
  {
   "cell_type": "markdown",
   "id": "ea38f8ab",
   "metadata": {},
   "source": [
    "median() : 중앙값"
   ]
  },
  {
   "cell_type": "code",
   "execution_count": 134,
   "id": "2105e62c",
   "metadata": {},
   "outputs": [
    {
     "name": "stdout",
     "output_type": "stream",
     "text": [
      "[[4 1 3]\n",
      " [3 2 3]\n",
      " [3 6 2]]\n",
      "3.0\n",
      "[3. 2. 3.]\n",
      "[3. 3. 3.]\n"
     ]
    }
   ],
   "source": [
    "print(a2)\n",
    "print(np.median(a2))\n",
    "print(np.median(a2, axis=0))\n",
    "print(np.median(a2, axis=1))"
   ]
  },
  {
   "cell_type": "markdown",
   "id": "4e5c23b0",
   "metadata": {},
   "source": [
    "percentile() : 백분위 수"
   ]
  },
  {
   "cell_type": "code",
   "execution_count": 135,
   "id": "58d54728",
   "metadata": {},
   "outputs": [
    {
     "name": "stdout",
     "output_type": "stream",
     "text": [
      "[0 1 2 3]\n",
      "[0.  0.6 1.2 1.8 2.4 3. ]\n",
      "[0 1 2 2 3 3]\n",
      "[0 0 1 1 2 3]\n",
      "[0 1 1 2 2 3]\n",
      "[0.  0.5 1.5 1.5 2.5 3. ]\n"
     ]
    }
   ],
   "source": [
    "a1 = np.array([0, 1, 2, 3])\n",
    "print(a1)\n",
    "print(np.percentile(a1, [0, 20, 40 ,60, 80, 100], interpolation='linear'))\n",
    "print(np.percentile(a1, [0, 20, 40 ,60, 80, 100], interpolation='higher'))\n",
    "print(np.percentile(a1, [0, 20, 40 ,60, 80, 100], interpolation='lower'))\n",
    "print(np.percentile(a1, [0, 20, 40 ,60, 80, 100], interpolation='nearest'))\n",
    "print(np.percentile(a1, [0, 20, 40 ,60, 80, 100], interpolation='midpoint'))"
   ]
  },
  {
   "cell_type": "markdown",
   "id": "e47001b1",
   "metadata": {},
   "source": [
    "any()"
   ]
  },
  {
   "cell_type": "code",
   "execution_count": 147,
   "id": "757b7911",
   "metadata": {},
   "outputs": [
    {
     "name": "stdout",
     "output_type": "stream",
     "text": [
      "[[False False False]\n",
      " [False  True  True]\n",
      " [False  True  True]]\n",
      "True\n",
      "[False  True  True]\n",
      "[False  True  True]\n"
     ]
    }
   ],
   "source": [
    "a2 = np.array([[False, False, False],\n",
    "               [False, True, True],\n",
    "               [False, True, True]])\n",
    "print(a2)\n",
    "print(np.any(a2)) # 이중 하나만 True 여도 True.\n",
    "print(np.any(a2, axis=0))\n",
    "print(np.any(a2, axis=1))"
   ]
  },
  {
   "cell_type": "markdown",
   "id": "332ff156",
   "metadata": {},
   "source": [
    "all()"
   ]
  },
  {
   "cell_type": "code",
   "execution_count": 150,
   "id": "94b27527",
   "metadata": {},
   "outputs": [
    {
     "name": "stdout",
     "output_type": "stream",
     "text": [
      "[[False False  True]\n",
      " [ True  True  True]\n",
      " [False  True  True]]\n",
      "False\n",
      "[False False  True]\n",
      "[False  True False]\n"
     ]
    }
   ],
   "source": [
    "a2 = np.array([[False, False, True],\n",
    "               [True, True, True],\n",
    "               [False, True, True]])\n",
    "print(a2)\n",
    "print(np.all(a2)) # 다 Ture여야 True.\n",
    "print(np.all(a2, axis=0))\n",
    "print(np.all(a2, axis=1))"
   ]
  },
  {
   "cell_type": "markdown",
   "id": "fb5307bc",
   "metadata": {},
   "source": [
    "### 비교 연산 (Comparison Operators)"
   ]
  },
  {
   "cell_type": "code",
   "execution_count": 155,
   "id": "3ff38607",
   "metadata": {},
   "outputs": [
    {
     "name": "stdout",
     "output_type": "stream",
     "text": [
      "[1 2 3 4 5 6 7 8 9]\n",
      "[False False False False  True False False False False]\n",
      "[ True  True  True  True False  True  True  True  True]\n",
      "[ True  True  True  True False False False False False]\n",
      "[ True  True  True  True  True False False False False]\n",
      "[False False False False False  True  True  True  True]\n",
      "[False False False False  True  True  True  True  True]\n"
     ]
    }
   ],
   "source": [
    "a1 = np.arange(1, 10)\n",
    "print(a1)\n",
    "print(a1 == 5) # 비교 연산 후 True / Flase 결과값 리턴.\n",
    "print(a1 != 5)\n",
    "print(a1 < 5)\n",
    "print(a1 <= 5)\n",
    "print(a1 > 5)\n",
    "print(a1 >= 5)"
   ]
  },
  {
   "cell_type": "code",
   "execution_count": 160,
   "id": "08739f25",
   "metadata": {},
   "outputs": [
    {
     "name": "stdout",
     "output_type": "stream",
     "text": [
      "[[1 2 3]\n",
      " [4 5 6]\n",
      " [7 8 9]]\n",
      "45\n",
      "4\n",
      "4\n",
      "[1 1 2]\n",
      "[0 1 3]\n",
      "True\n",
      "[ True  True  True]\n",
      "[False  True  True]\n",
      "False\n",
      "[False False False]\n",
      "[False False  True]\n"
     ]
    }
   ],
   "source": [
    "a2 = np.arange(1, 10).reshape(3, 3)\n",
    "print(a2)\n",
    "print(np.sum(a2))\n",
    "print(np.count_nonzero(a2 > 5))\n",
    "print(np.sum(a2 > 5))\n",
    "print(np.sum(a2 > 5, axis=0))\n",
    "print(np.sum(a2 > 5, axis=1))\n",
    "print(np.any(a2 > 5))\n",
    "print(np.any(a2 > 5, axis=0))\n",
    "print(np.any(a2 > 5, axis=1))\n",
    "print(np.all(a2 > 5))\n",
    "print(np.all(a2 > 5, axis=0))\n",
    "print(np.all(a2 > 5, axis=1))"
   ]
  },
  {
   "cell_type": "code",
   "execution_count": 162,
   "id": "c1939daa",
   "metadata": {},
   "outputs": [
    {
     "name": "stdout",
     "output_type": "stream",
     "text": [
      "[1 2 3 4 5]\n",
      "[1 2 3 3 4]\n",
      "[ True  True  True False False]\n"
     ]
    }
   ],
   "source": [
    "a1 = np.array([1, 2, 3, 4, 5])\n",
    "print(a1)\n",
    "b1 = np.array([1, 2, 3, 3, 4])\n",
    "print(b1)\n",
    "print(np.isclose(a1, b1)) # 값이 같으면 True, 다르면 False"
   ]
  },
  {
   "cell_type": "code",
   "execution_count": 168,
   "id": "3c400309",
   "metadata": {},
   "outputs": [
    {
     "name": "stdout",
     "output_type": "stream",
     "text": [
      "[ nan   2.  inf   4. -inf]\n",
      "[ True False False False False]\n",
      "[False False  True False  True]\n",
      "[False  True False  True False]\n"
     ]
    }
   ],
   "source": [
    "a1 = np.array([np.nan, 2, np.inf, 4, np.NINF])\n",
    "print(a1)\n",
    "print(np.isnan(a1))\n",
    "print(np.isinf(a1))\n",
    "print(np.isfinite(a1))"
   ]
  },
  {
   "cell_type": "markdown",
   "id": "53d42b03",
   "metadata": {},
   "source": [
    "불리언 연산자(Bollean Operators)"
   ]
  },
  {
   "cell_type": "code",
   "execution_count": 171,
   "id": "5c1f113c",
   "metadata": {},
   "outputs": [
    {
     "name": "stdout",
     "output_type": "stream",
     "text": [
      "[[1 2 3]\n",
      " [4 5 6]\n",
      " [7 8 9]]\n",
      "[[False False False]\n",
      " [False False  True]\n",
      " [ True False False]]\n",
      "[6 7]\n",
      "[[ True  True  True]\n",
      " [ True  True  True]\n",
      " [ True  True  True]]\n",
      "[1 2 3 4 5 6 7 8 9]\n",
      "[[ True  True  True]\n",
      " [ True  True False]\n",
      " [False  True  True]]\n",
      "[1 2 3 4 5 8 9]\n",
      "[[ True  True  True]\n",
      " [ True  True False]\n",
      " [False False False]]\n",
      "[1 2 3 4 5]\n"
     ]
    }
   ],
   "source": [
    "a2 = np.arange(1, 10).reshape(3, 3)\n",
    "print(a2)\n",
    "\n",
    "print((a2 > 5) & (a2 < 8)) # AND\n",
    "print(a2[(a2 > 5) & (a2 < 8)]) # 불리언 인덱싱을 통해 값 출력\n",
    "\n",
    "print((a2 > 5) | (a2 < 8)) # OR\n",
    "print(a2[(a2 > 5) | (a2 < 8)]) # 불리언 인덱싱을 통해 값 출력\n",
    "\n",
    "print((a2 > 5) ^ (a2 < 8)) # XOR\n",
    "print(a2[(a2 > 5) ^ (a2 < 8)]) # 불리언 인덱싱을 통해 값 출력\n",
    "\n",
    "print(~(a2 > 5)) # NOT\n",
    "print(a2[~(a2 > 5)]) # 불리언 인덱싱을 통해 값 출력\n"
   ]
  },
  {
   "cell_type": "markdown",
   "id": "cbf4a1fe",
   "metadata": {},
   "source": [
    "### 배열 정렬"
   ]
  },
  {
   "cell_type": "code",
   "execution_count": 174,
   "id": "0d255bfe",
   "metadata": {},
   "outputs": [
    {
     "name": "stdout",
     "output_type": "stream",
     "text": [
      "[3 3 8 2 8 3 2 3 6 6]\n",
      "[2 2 3 3 3 3 6 6 8 8]\n",
      "[3 3 8 2 8 3 2 3 6 6]\n",
      "[3 6 0 1 5 7 8 9 2 4]\n",
      "[3 3 8 2 8 3 2 3 6 6]\n",
      "None\n",
      "[2 2 3 3 3 3 6 6 8 8]\n"
     ]
    }
   ],
   "source": [
    "a1 = np.random.randint(1, 10, size = 10)\n",
    "print(a1)\n",
    "print(np.sort(a1))\n",
    "print(a1)\n",
    "print(np.argsort(a1)) # 인덱스 위치를 출력. 인덱스 값.\n",
    "print(a1)\n",
    "print(a1.sort())\n",
    "print(a1)"
   ]
  },
  {
   "cell_type": "code",
   "execution_count": 176,
   "id": "4e471cc4",
   "metadata": {},
   "outputs": [
    {
     "name": "stdout",
     "output_type": "stream",
     "text": [
      "[[7 7 4]\n",
      " [8 3 1]\n",
      " [5 6 5]]\n",
      "[[5 3 1]\n",
      " [7 6 4]\n",
      " [8 7 5]]\n",
      "[[4 7 7]\n",
      " [1 3 8]\n",
      " [5 5 6]]\n"
     ]
    }
   ],
   "source": [
    "a2 = np.random.randint(1, 10, size=(3, 3))\n",
    "print(a2)\n",
    "print(np.sort(a2, axis=0))\n",
    "print(np.sort(a2, axis=1))"
   ]
  },
  {
   "cell_type": "markdown",
   "id": "c150def8",
   "metadata": {},
   "source": [
    "부분 정렬  \n",
    "- partition() : 배열에서 k개의 작은 값을 반환"
   ]
  },
  {
   "cell_type": "code",
   "execution_count": 178,
   "id": "d63229b0",
   "metadata": {},
   "outputs": [
    {
     "name": "stdout",
     "output_type": "stream",
     "text": [
      "[6 5 4 6 5 9 5 6 1 4]\n",
      "[1 4 4 5 5 9 5 6 6 6]\n"
     ]
    }
   ],
   "source": [
    "a1 = np.random.randint(1, 10, size=10)\n",
    "print(a1)\n",
    "print(np.partition(a1, 3))"
   ]
  },
  {
   "cell_type": "code",
   "execution_count": 179,
   "id": "85abba40",
   "metadata": {},
   "outputs": [
    {
     "name": "stdout",
     "output_type": "stream",
     "text": [
      "[[8 7 7 6 8]\n",
      " [6 1 2 9 8]\n",
      " [4 6 3 7 2]\n",
      " [6 3 7 6 1]\n",
      " [6 9 9 5 4]]\n",
      "[[6 7 7 8 8]\n",
      " [1 2 6 8 9]\n",
      " [2 3 4 6 7]\n",
      " [3 1 6 6 7]\n",
      " [5 4 6 9 9]]\n",
      "[[6 3 2 6 1]\n",
      " [4 6 3 5 2]\n",
      " [6 1 7 6 4]\n",
      " [6 7 7 7 8]\n",
      " [8 9 9 9 8]]\n",
      "[[6 7 7 8 8]\n",
      " [1 2 6 8 9]\n",
      " [2 3 4 6 7]\n",
      " [3 1 6 6 7]\n",
      " [5 4 6 9 9]]\n"
     ]
    }
   ],
   "source": [
    "a2 = np.random.randint(1, 10, size=(5, 5))\n",
    "print(a2)\n",
    "print(np.partition(a2, 3))\n",
    "print(np.partition(a2, 3, axis=0))\n",
    "print(np.partition(a2, 3, axis=1))"
   ]
  },
  {
   "cell_type": "markdown",
   "id": "1a737884",
   "metadata": {},
   "source": [
    "## 배열 입출력"
   ]
  },
  {
   "cell_type": "code",
   "execution_count": 180,
   "id": "b44ec3fe",
   "metadata": {},
   "outputs": [
    {
     "name": "stdout",
     "output_type": "stream",
     "text": [
      "[[5 3 3 9 8]\n",
      " [5 9 9 4 8]\n",
      " [2 6 5 8 1]\n",
      " [5 5 9 8 9]\n",
      " [8 5 2 5 8]]\n"
     ]
    }
   ],
   "source": [
    "a2 = np.random.randint(1, 10, size=(5, 5))\n",
    "print(a2)\n",
    "np.save(\"a\", a2)"
   ]
  },
  {
   "cell_type": "code",
   "execution_count": 181,
   "id": "db8c02ca",
   "metadata": {},
   "outputs": [
    {
     "name": "stdout",
     "output_type": "stream",
     "text": [
      " C 드라이브의 볼륨에는 이름이 없습니다.\n",
      " 볼륨 일련 번호: 8015-6F87\n",
      "\n",
      " C:\\Users\\MKK\\PythonNumPyWorkspace 디렉터리\n",
      "\n",
      "2022-03-15  오후 05:45    <DIR>          .\n",
      "2022-03-15  오후 05:45    <DIR>          ..\n",
      "2022-03-08  오후 05:59    <DIR>          .ipynb_checkpoints\n",
      "2022-03-08  오후 05:58             1,042 0. NumPy.ipynb\n",
      "2022-03-15  오후 05:44            81,616 1. 배열 생성.ipynb\n",
      "2022-03-15  오후 05:45               228 a.npy\n",
      "               3개 파일              82,886 바이트\n",
      "               3개 디렉터리  293,656,920,064 바이트 남음\n"
     ]
    }
   ],
   "source": [
    "ls"
   ]
  },
  {
   "cell_type": "code",
   "execution_count": 183,
   "id": "57484071",
   "metadata": {},
   "outputs": [
    {
     "name": "stdout",
     "output_type": "stream",
     "text": [
      "[[6 5 3 7 7]\n",
      " [4 6 3 8 2]\n",
      " [6 8 7 6 4]\n",
      " [6 6 9 2 9]\n",
      " [7 5 1 4 1]]\n"
     ]
    }
   ],
   "source": [
    "b2 = np.random.randint(1, 10, size=(5, 5))\n",
    "print(b2)\n",
    "np.savez(\"ab\", a2, b2)"
   ]
  },
  {
   "cell_type": "code",
   "execution_count": 184,
   "id": "4789b9be",
   "metadata": {},
   "outputs": [
    {
     "name": "stdout",
     "output_type": "stream",
     "text": [
      " C 드라이브의 볼륨에는 이름이 없습니다.\n",
      " 볼륨 일련 번호: 8015-6F87\n",
      "\n",
      " C:\\Users\\MKK\\PythonNumPyWorkspace 디렉터리\n",
      "\n",
      "2022-03-15  오후 05:47    <DIR>          .\n",
      "2022-03-15  오후 05:47    <DIR>          ..\n",
      "2022-03-08  오후 05:59    <DIR>          .ipynb_checkpoints\n",
      "2022-03-08  오후 05:58             1,042 0. NumPy.ipynb\n",
      "2022-03-15  오후 05:46            82,763 1. 배열 생성.ipynb\n",
      "2022-03-15  오후 05:45               228 a.npy\n",
      "2022-03-15  오후 05:47               706 ab.npz\n",
      "               4개 파일              84,739 바이트\n",
      "               3개 디렉터리  293,656,211,456 바이트 남음\n"
     ]
    }
   ],
   "source": [
    "ls"
   ]
  },
  {
   "cell_type": "code",
   "execution_count": 185,
   "id": "14c6f91f",
   "metadata": {},
   "outputs": [
    {
     "name": "stdout",
     "output_type": "stream",
     "text": [
      "[[5 3 3 9 8]\n",
      " [5 9 9 4 8]\n",
      " [2 6 5 8 1]\n",
      " [5 5 9 8 9]\n",
      " [8 5 2 5 8]]\n"
     ]
    }
   ],
   "source": [
    "npy = np.load(\"a.npy\")\n",
    "print(npy)"
   ]
  },
  {
   "cell_type": "code",
   "execution_count": 187,
   "id": "b81f1b51",
   "metadata": {},
   "outputs": [
    {
     "name": "stdout",
     "output_type": "stream",
     "text": [
      "['arr_0', 'arr_1']\n",
      "[[5 3 3 9 8]\n",
      " [5 9 9 4 8]\n",
      " [2 6 5 8 1]\n",
      " [5 5 9 8 9]\n",
      " [8 5 2 5 8]]\n",
      "[[6 5 3 7 7]\n",
      " [4 6 3 8 2]\n",
      " [6 8 7 6 4]\n",
      " [6 6 9 2 9]\n",
      " [7 5 1 4 1]]\n"
     ]
    }
   ],
   "source": [
    "npz = np.load(\"ab.npz\")\n",
    "print(npz.files)\n",
    "print(npz['arr_0'])\n",
    "print(npz['arr_1'])"
   ]
  },
  {
   "cell_type": "code",
   "execution_count": 189,
   "id": "760fde0f",
   "metadata": {},
   "outputs": [
    {
     "name": "stdout",
     "output_type": "stream",
     "text": [
      "[[5 3 3 9 8]\n",
      " [5 9 9 4 8]\n",
      " [2 6 5 8 1]\n",
      " [5 5 9 8 9]\n",
      " [8 5 2 5 8]]\n"
     ]
    }
   ],
   "source": [
    "print(a2)\n",
    "np.savetxt(\"a.csv\", a2, delimiter=',')"
   ]
  },
  {
   "cell_type": "code",
   "execution_count": 190,
   "id": "da50a38a",
   "metadata": {},
   "outputs": [
    {
     "name": "stdout",
     "output_type": "stream",
     "text": [
      " C 드라이브의 볼륨에는 이름이 없습니다.\n",
      " 볼륨 일련 번호: 8015-6F87\n",
      "\n",
      " C:\\Users\\MKK\\PythonNumPyWorkspace 디렉터리\n",
      "\n",
      "2022-03-15  오후 05:50    <DIR>          .\n",
      "2022-03-15  오후 05:50    <DIR>          ..\n",
      "2022-03-08  오후 05:59    <DIR>          .ipynb_checkpoints\n",
      "2022-03-08  오후 05:58             1,042 0. NumPy.ipynb\n",
      "2022-03-15  오후 05:50            84,788 1. 배열 생성.ipynb\n",
      "2022-03-15  오후 05:50               630 a.csv\n",
      "2022-03-15  오후 05:45               228 a.npy\n",
      "2022-03-15  오후 05:47               706 ab.npz\n",
      "               5개 파일              87,394 바이트\n",
      "               3개 디렉터리  293,654,913,024 바이트 남음\n"
     ]
    }
   ],
   "source": [
    "ls"
   ]
  },
  {
   "cell_type": "code",
   "execution_count": 192,
   "id": "fa32138a",
   "metadata": {},
   "outputs": [
    {
     "name": "stdout",
     "output_type": "stream",
     "text": [
      "[[5. 3. 3. 9. 8.]\n",
      " [5. 9. 9. 4. 8.]\n",
      " [2. 6. 5. 8. 1.]\n",
      " [5. 5. 9. 8. 9.]\n",
      " [8. 5. 2. 5. 8.]]\n"
     ]
    }
   ],
   "source": [
    "csv = np.loadtxt(\"a.csv\", delimiter=',') # 구분자를 ',' 로 지정\n",
    "print(csv)"
   ]
  },
  {
   "cell_type": "code",
   "execution_count": 194,
   "id": "110fd75b",
   "metadata": {},
   "outputs": [
    {
     "name": "stdout",
     "output_type": "stream",
     "text": [
      "[[6 5 3 7 7]\n",
      " [4 6 3 8 2]\n",
      " [6 8 7 6 4]\n",
      " [6 6 9 2 9]\n",
      " [7 5 1 4 1]]\n"
     ]
    }
   ],
   "source": [
    "print(b2)\n",
    "np.savetxt(\"b.csv\", b2, delimiter=',', fmt='%.2e', header='c1, c2, c3, c4, c5') # fmt 소수점 2자리 이하. header 정보 c1, ... 포함"
   ]
  },
  {
   "cell_type": "code",
   "execution_count": 195,
   "id": "48f19bfa",
   "metadata": {},
   "outputs": [
    {
     "name": "stdout",
     "output_type": "stream",
     "text": [
      "[[6. 5. 3. 7. 7.]\n",
      " [4. 6. 3. 8. 2.]\n",
      " [6. 8. 7. 6. 4.]\n",
      " [6. 6. 9. 2. 9.]\n",
      " [7. 5. 1. 4. 1.]]\n"
     ]
    }
   ],
   "source": [
    "csv = np.loadtxt(\"b.csv\", delimiter=',')\n",
    "print(csv)"
   ]
  }
 ],
 "metadata": {
  "kernelspec": {
   "display_name": "Python 3 (ipykernel)",
   "language": "python",
   "name": "python3"
  },
  "language_info": {
   "codemirror_mode": {
    "name": "ipython",
    "version": 3
   },
   "file_extension": ".py",
   "mimetype": "text/x-python",
   "name": "python",
   "nbconvert_exporter": "python",
   "pygments_lexer": "ipython3",
   "version": "3.9.7"
  }
 },
 "nbformat": 4,
 "nbformat_minor": 5
}
