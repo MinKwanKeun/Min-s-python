{
 "cells": [
  {
   "cell_type": "code",
   "execution_count": 1,
   "id": "b0ff5cbe",
   "metadata": {},
   "outputs": [
    {
     "data": {
      "text/plain": [
       "'1.20.3'"
      ]
     },
     "execution_count": 1,
     "metadata": {},
     "output_type": "execute_result"
    }
   ],
   "source": [
    "import numpy as np\n",
    "np.__version__"
   ]
  },
  {
   "cell_type": "markdown",
   "id": "b4b5c49d",
   "metadata": {},
   "source": [
    "# 1. 배열 생성\n"
   ]
  },
  {
   "cell_type": "markdown",
   "id": "bee260e3",
   "metadata": {},
   "source": [
    "### 리스트로 배열 만들기\n",
    "- 1D array, 2D array, 3D array"
   ]
  },
  {
   "cell_type": "code",
   "execution_count": 2,
   "id": "087baf72",
   "metadata": {},
   "outputs": [
    {
     "name": "stdout",
     "output_type": "stream",
     "text": [
      "[1 2 3 4 5]\n",
      "<class 'numpy.ndarray'>\n",
      "(5,)\n",
      "1 2 3 4 5\n",
      "[4 5 6 4 5]\n"
     ]
    }
   ],
   "source": [
    "a1 = np.array([1, 2, 3, 4, 5])\n",
    "print(a1)\n",
    "print(type(a1))\n",
    "print(a1.shape)\n",
    "print(a1[0], a1[1], a1[2], a1[3], a1[4])\n",
    "a1[0] = 4\n",
    "a1[1] = 5\n",
    "a1[2] = 6\n",
    "print(a1)"
   ]
  },
  {
   "cell_type": "code",
   "execution_count": 3,
   "id": "7d52f04a",
   "metadata": {},
   "outputs": [
    {
     "name": "stdout",
     "output_type": "stream",
     "text": [
      "[[1 2 3]\n",
      " [4 5 6]\n",
      " [7 8 9]]\n",
      "(3, 3)\n",
      "1 5 9\n"
     ]
    }
   ],
   "source": [
    "a2 = np.array([ [1, 2, 3], [4, 5, 6], [7, 8, 9] ])\n",
    "print(a2)\n",
    "print(a2.shape)\n",
    "print(a2[0, 0], a2[1, 1], a2[2, 2])"
   ]
  },
  {
   "cell_type": "code",
   "execution_count": 4,
   "id": "08a02640",
   "metadata": {},
   "outputs": [
    {
     "name": "stdout",
     "output_type": "stream",
     "text": [
      "[[[1 2 3]\n",
      "  [4 5 6]\n",
      "  [7 8 9]]\n",
      "\n",
      " [[1 2 3]\n",
      "  [4 5 6]\n",
      "  [7 8 9]]\n",
      "\n",
      " [[1 2 3]\n",
      "  [4 5 6]\n",
      "  [7 8 9]]]\n",
      "(3, 3, 3)\n"
     ]
    }
   ],
   "source": [
    "a3 = np.array([ [ [1, 2, 3], [4, 5, 6], [7, 8, 9] ],\n",
    "                [ [1, 2, 3], [4, 5, 6], [7, 8, 9] ],\n",
    "                [ [1, 2, 3], [4, 5, 6], [7, 8, 9] ] ])\n",
    "print(a3)\n",
    "print(a3.shape)"
   ]
  },
  {
   "cell_type": "markdown",
   "id": "0cb08063",
   "metadata": {},
   "source": [
    "### 배열 생성 및 초기화"
   ]
  },
  {
   "cell_type": "markdown",
   "id": "208b8039",
   "metadata": {},
   "source": [
    " - zeros() : 모든 요소를 0으로 초기화"
   ]
  },
  {
   "cell_type": "code",
   "execution_count": 5,
   "id": "29fe3324",
   "metadata": {},
   "outputs": [
    {
     "data": {
      "text/plain": [
       "array([0., 0., 0., 0., 0., 0., 0., 0., 0., 0.])"
      ]
     },
     "execution_count": 5,
     "metadata": {},
     "output_type": "execute_result"
    }
   ],
   "source": [
    "np.zeros(10) # 10개의 요소를 0으로 초기화된 배열을 만들어줘."
   ]
  },
  {
   "cell_type": "markdown",
   "id": "24edcc5e",
   "metadata": {},
   "source": [
    "- ones() : 모든 요소를 1로 초기화"
   ]
  },
  {
   "cell_type": "code",
   "execution_count": 6,
   "id": "629eabeb",
   "metadata": {},
   "outputs": [
    {
     "data": {
      "text/plain": [
       "array([[1., 1., 1.],\n",
       "       [1., 1., 1.],\n",
       "       [1., 1., 1.]])"
      ]
     },
     "execution_count": 6,
     "metadata": {},
     "output_type": "execute_result"
    }
   ],
   "source": [
    "np.ones((3, 3))"
   ]
  },
  {
   "cell_type": "markdown",
   "id": "c7bc3df0",
   "metadata": {},
   "source": [
    "- full() : 모든 요소를 지정한 값으로 초기화"
   ]
  },
  {
   "cell_type": "code",
   "execution_count": 7,
   "id": "928cd553",
   "metadata": {},
   "outputs": [
    {
     "data": {
      "text/plain": [
       "array([[1.23, 1.23, 1.23],\n",
       "       [1.23, 1.23, 1.23],\n",
       "       [1.23, 1.23, 1.23]])"
      ]
     },
     "execution_count": 7,
     "metadata": {},
     "output_type": "execute_result"
    }
   ],
   "source": [
    "np.full((3, 3), 1.23) # 3 by 3 짜라의 1.23으로 값이 채워진 배열 생성"
   ]
  },
  {
   "cell_type": "markdown",
   "id": "2a64d2b5",
   "metadata": {},
   "source": [
    "- eye() : 단위행렬(identity matrix) 생성\n",
    "> 주대각선의 원소가 모두 1이고 원소는 모두 0인 정사각 행렬"
   ]
  },
  {
   "cell_type": "code",
   "execution_count": 8,
   "id": "6b284405",
   "metadata": {},
   "outputs": [
    {
     "data": {
      "text/plain": [
       "array([[1., 0., 0.],\n",
       "       [0., 1., 0.],\n",
       "       [0., 0., 1.]])"
      ]
     },
     "execution_count": 8,
     "metadata": {},
     "output_type": "execute_result"
    }
   ],
   "source": [
    "np.eye(3)"
   ]
  },
  {
   "cell_type": "markdown",
   "id": "55b5ea01",
   "metadata": {},
   "source": [
    "- tri() : 삼각행렬 생성"
   ]
  },
  {
   "cell_type": "code",
   "execution_count": 9,
   "id": "4e4888b9",
   "metadata": {
    "scrolled": true
   },
   "outputs": [
    {
     "data": {
      "text/plain": [
       "array([[1., 0., 0.],\n",
       "       [1., 1., 0.],\n",
       "       [1., 1., 1.]])"
      ]
     },
     "execution_count": 9,
     "metadata": {},
     "output_type": "execute_result"
    }
   ],
   "source": [
    "np.tri(3)"
   ]
  },
  {
   "cell_type": "markdown",
   "id": "ae26e29e",
   "metadata": {},
   "source": [
    "- empty() : 초기화되지 않은 배열 생성\n",
    "> 초기화가 없어서 배열 생성비용 저렴하고 빠름  \n",
    "> 초기화되지 않아서 기존 메모리 위치에 존재하는 값이 있음"
   ]
  },
  {
   "cell_type": "code",
   "execution_count": 10,
   "id": "5ae44267",
   "metadata": {},
   "outputs": [
    {
     "data": {
      "text/plain": [
       "array([0., 0., 0., 0., 0., 0., 0., 0., 0., 0.])"
      ]
     },
     "execution_count": 10,
     "metadata": {},
     "output_type": "execute_result"
    }
   ],
   "source": [
    "np.empty(10)"
   ]
  },
  {
   "cell_type": "markdown",
   "id": "431e2197",
   "metadata": {},
   "source": [
    "- _like() : 지정된 배열과 shape가 같은 행렬 생성\n",
    "> np.zeros_like()  \n",
    "> np.ones_like()  \n",
    "> np.full_like()  \n",
    "> np.empty_like()"
   ]
  },
  {
   "cell_type": "code",
   "execution_count": 11,
   "id": "e1225df0",
   "metadata": {},
   "outputs": [
    {
     "name": "stdout",
     "output_type": "stream",
     "text": [
      "[4 5 6 4 5]\n"
     ]
    },
    {
     "data": {
      "text/plain": [
       "array([0, 0, 0, 0, 0])"
      ]
     },
     "execution_count": 11,
     "metadata": {},
     "output_type": "execute_result"
    }
   ],
   "source": [
    "print(a1)\n",
    "np.zeros_like(a1)"
   ]
  },
  {
   "cell_type": "code",
   "execution_count": 12,
   "id": "32ab56df",
   "metadata": {},
   "outputs": [
    {
     "name": "stdout",
     "output_type": "stream",
     "text": [
      "[[1 2 3]\n",
      " [4 5 6]\n",
      " [7 8 9]]\n"
     ]
    },
    {
     "data": {
      "text/plain": [
       "array([[1, 1, 1],\n",
       "       [1, 1, 1],\n",
       "       [1, 1, 1]])"
      ]
     },
     "execution_count": 12,
     "metadata": {},
     "output_type": "execute_result"
    }
   ],
   "source": [
    "print(a2)\n",
    "np.ones_like(a2)"
   ]
  },
  {
   "cell_type": "code",
   "execution_count": 13,
   "id": "df27fea9",
   "metadata": {},
   "outputs": [
    {
     "name": "stdout",
     "output_type": "stream",
     "text": [
      "[[[1 2 3]\n",
      "  [4 5 6]\n",
      "  [7 8 9]]\n",
      "\n",
      " [[1 2 3]\n",
      "  [4 5 6]\n",
      "  [7 8 9]]\n",
      "\n",
      " [[1 2 3]\n",
      "  [4 5 6]\n",
      "  [7 8 9]]]\n"
     ]
    },
    {
     "data": {
      "text/plain": [
       "array([[[10, 10, 10],\n",
       "        [10, 10, 10],\n",
       "        [10, 10, 10]],\n",
       "\n",
       "       [[10, 10, 10],\n",
       "        [10, 10, 10],\n",
       "        [10, 10, 10]],\n",
       "\n",
       "       [[10, 10, 10],\n",
       "        [10, 10, 10],\n",
       "        [10, 10, 10]]])"
      ]
     },
     "execution_count": 13,
     "metadata": {},
     "output_type": "execute_result"
    }
   ],
   "source": [
    "print(a3)\n",
    "np.full_like(a3, 10)"
   ]
  },
  {
   "cell_type": "markdown",
   "id": "4d939ac8",
   "metadata": {},
   "source": [
    "### 생성한 값으로 배열 생성"
   ]
  },
  {
   "cell_type": "markdown",
   "id": "b1d1fe14",
   "metadata": {},
   "source": [
    "- arange() : 정수 범위로 배열 생성"
   ]
  },
  {
   "cell_type": "code",
   "execution_count": 14,
   "id": "248d278f",
   "metadata": {},
   "outputs": [
    {
     "data": {
      "text/plain": [
       "array([ 0,  2,  4,  6,  8, 10, 12, 14, 16, 18, 20, 22, 24, 26, 28])"
      ]
     },
     "execution_count": 14,
     "metadata": {},
     "output_type": "execute_result"
    }
   ],
   "source": [
    "np.arange(0, 30, 2)"
   ]
  },
  {
   "cell_type": "markdown",
   "id": "f20a0d19",
   "metadata": {},
   "source": [
    "- linspace() : 범위 내에서 균등 간격의 배열 생성"
   ]
  },
  {
   "cell_type": "code",
   "execution_count": 15,
   "id": "c5adfc41",
   "metadata": {},
   "outputs": [
    {
     "data": {
      "text/plain": [
       "array([0.  , 0.25, 0.5 , 0.75, 1.  ])"
      ]
     },
     "execution_count": 15,
     "metadata": {},
     "output_type": "execute_result"
    }
   ],
   "source": [
    "np.linspace(0, 1, 5)"
   ]
  },
  {
   "cell_type": "markdown",
   "id": "cb37d3c1",
   "metadata": {},
   "source": [
    "- logspace() : 범위 내에서 균등간격으로 로그 스케일로 배열 생성"
   ]
  },
  {
   "cell_type": "code",
   "execution_count": 16,
   "id": "24a56283",
   "metadata": {},
   "outputs": [
    {
     "data": {
      "text/plain": [
       "array([ 1.25892541,  1.40400425,  1.565802  ,  1.74624535,  1.94748304,\n",
       "        2.1719114 ,  2.42220294,  2.70133812,  3.0126409 ,  3.35981829,\n",
       "        3.74700446,  4.17881006,  4.66037703,  5.19743987,  5.79639395,\n",
       "        6.46437163,  7.2093272 ,  8.04013161,  8.9666781 , 10.        ])"
      ]
     },
     "execution_count": 16,
     "metadata": {},
     "output_type": "execute_result"
    }
   ],
   "source": [
    "np.logspace(0.1, 1, 20)"
   ]
  },
  {
   "cell_type": "markdown",
   "id": "72c86066",
   "metadata": {},
   "source": [
    "### 랜덤값으로 배열 생성"
   ]
  },
  {
   "cell_type": "markdown",
   "id": "85afba88",
   "metadata": {},
   "source": [
    "- random.random() : 랜덤한 수의 배열 생성"
   ]
  },
  {
   "cell_type": "code",
   "execution_count": 17,
   "id": "46ea80a6",
   "metadata": {},
   "outputs": [
    {
     "data": {
      "text/plain": [
       "array([[0.29704073, 0.87466922, 0.49572737],\n",
       "       [0.89102563, 0.06875871, 0.38607122],\n",
       "       [0.94703142, 0.4893396 , 0.89623915]])"
      ]
     },
     "execution_count": 17,
     "metadata": {},
     "output_type": "execute_result"
    }
   ],
   "source": [
    "np.random.random((3, 3))"
   ]
  },
  {
   "cell_type": "markdown",
   "id": "8b871a21",
   "metadata": {},
   "source": [
    "- random.randint() : 일정 구간의 랜덤 정수의 배열 생성"
   ]
  },
  {
   "cell_type": "code",
   "execution_count": 18,
   "id": "b52f1ccd",
   "metadata": {},
   "outputs": [
    {
     "data": {
      "text/plain": [
       "array([[8, 5, 6],\n",
       "       [8, 5, 3],\n",
       "       [7, 2, 3]])"
      ]
     },
     "execution_count": 18,
     "metadata": {},
     "output_type": "execute_result"
    }
   ],
   "source": [
    "np.random.randint(0, 10, (3, 3))"
   ]
  },
  {
   "cell_type": "markdown",
   "id": "5748e818",
   "metadata": {},
   "source": [
    "- random.normal() : 정규분포(normal distribution)를 고려한 랜덤한 수의 배열 생성  \n",
    "- 평균 = 0, 표준편차 = 1, 3 x 3 배열"
   ]
  },
  {
   "cell_type": "code",
   "execution_count": 19,
   "id": "c64fefe3",
   "metadata": {},
   "outputs": [
    {
     "data": {
      "text/plain": [
       "array([[ 0.31369677,  0.58985949,  1.03583029],\n",
       "       [ 0.11984274, -0.68567923, -0.4033952 ],\n",
       "       [-0.06597317, -2.21634435,  1.10536162]])"
      ]
     },
     "execution_count": 19,
     "metadata": {},
     "output_type": "execute_result"
    }
   ],
   "source": [
    "np.random.normal(0, 1, (3, 3))"
   ]
  },
  {
   "cell_type": "markdown",
   "id": "0c8698f2",
   "metadata": {},
   "source": [
    "- random.rand() : 균등분포(uniform distribution)를 고려한 랜덤한 수의 배열 생성"
   ]
  },
  {
   "cell_type": "code",
   "execution_count": 20,
   "id": "5b88721d",
   "metadata": {},
   "outputs": [
    {
     "data": {
      "text/plain": [
       "array([[0.8233182 , 0.05418796, 0.90702724],\n",
       "       [0.970676  , 0.48981042, 0.79574494],\n",
       "       [0.04966927, 0.11964272, 0.75380681]])"
      ]
     },
     "execution_count": 20,
     "metadata": {},
     "output_type": "execute_result"
    }
   ],
   "source": [
    "np.random.rand(3, 3)"
   ]
  },
  {
   "cell_type": "markdown",
   "id": "9fe7f6bb",
   "metadata": {},
   "source": [
    "- random.randn() : 표준 정규 분포(standard normal distribution)를 고려한 랜덤한 수의 배열 생성"
   ]
  },
  {
   "cell_type": "code",
   "execution_count": 21,
   "id": "e5b99339",
   "metadata": {},
   "outputs": [
    {
     "data": {
      "text/plain": [
       "array([[ 0.54700993, -0.14289397,  1.69175443],\n",
       "       [-0.24252403,  0.83978614,  0.30343342],\n",
       "       [-0.92173305, -0.09274038, -1.26235465]])"
      ]
     },
     "execution_count": 21,
     "metadata": {},
     "output_type": "execute_result"
    }
   ],
   "source": [
    "np.random.randn(3, 3)"
   ]
  },
  {
   "cell_type": "markdown",
   "id": "59ce29e6",
   "metadata": {},
   "source": [
    "### 표준 데이터 타입"
   ]
  },
  {
   "cell_type": "code",
   "execution_count": 22,
   "id": "0c01fb08",
   "metadata": {},
   "outputs": [
    {
     "data": {
      "text/plain": [
       "array([0, 0, 0, 0, 0, 0, 0, 0, 0, 0, 0, 0, 0, 0, 0, 0, 0, 0, 0, 0])"
      ]
     },
     "execution_count": 22,
     "metadata": {},
     "output_type": "execute_result"
    }
   ],
   "source": [
    "np.zeros(20, dtype=int)"
   ]
  },
  {
   "cell_type": "code",
   "execution_count": 23,
   "id": "e0d472fc",
   "metadata": {},
   "outputs": [
    {
     "data": {
      "text/plain": [
       "array([[ True,  True,  True],\n",
       "       [ True,  True,  True],\n",
       "       [ True,  True,  True]])"
      ]
     },
     "execution_count": 23,
     "metadata": {},
     "output_type": "execute_result"
    }
   ],
   "source": [
    "np.ones((3, 3), dtype=bool)"
   ]
  },
  {
   "cell_type": "code",
   "execution_count": 24,
   "id": "edfed7ba",
   "metadata": {},
   "outputs": [
    {
     "data": {
      "text/plain": [
       "array([[1., 1., 1.],\n",
       "       [1., 1., 1.],\n",
       "       [1., 1., 1.]])"
      ]
     },
     "execution_count": 24,
     "metadata": {},
     "output_type": "execute_result"
    }
   ],
   "source": [
    "np.full((3, 3), 1.0, dtype=float)"
   ]
  },
  {
   "cell_type": "markdown",
   "id": "7aefbe9b",
   "metadata": {},
   "source": [
    "### 날짜/시간 배열 생성"
   ]
  },
  {
   "cell_type": "code",
   "execution_count": 25,
   "id": "5f840eb3",
   "metadata": {},
   "outputs": [
    {
     "data": {
      "text/plain": [
       "array('2020-01-01', dtype='datetime64[D]')"
      ]
     },
     "execution_count": 25,
     "metadata": {},
     "output_type": "execute_result"
    }
   ],
   "source": [
    "date = np.array('2020-01-01', dtype=np.datetime64)\n",
    "date"
   ]
  },
  {
   "cell_type": "code",
   "execution_count": 26,
   "id": "173c4348",
   "metadata": {},
   "outputs": [
    {
     "data": {
      "text/plain": [
       "array(['2020-01-01', '2020-01-02', '2020-01-03', '2020-01-04',\n",
       "       '2020-01-05', '2020-01-06', '2020-01-07', '2020-01-08',\n",
       "       '2020-01-09', '2020-01-10', '2020-01-11', '2020-01-12'],\n",
       "      dtype='datetime64[D]')"
      ]
     },
     "execution_count": 26,
     "metadata": {},
     "output_type": "execute_result"
    }
   ],
   "source": [
    "date + np.arange(12)"
   ]
  },
  {
   "cell_type": "code",
   "execution_count": 27,
   "id": "2bf7e6ac",
   "metadata": {},
   "outputs": [
    {
     "data": {
      "text/plain": [
       "numpy.datetime64('2020-01-01T12:00')"
      ]
     },
     "execution_count": 27,
     "metadata": {},
     "output_type": "execute_result"
    }
   ],
   "source": [
    "datetime = np.datetime64('2020-01-01 12:00')\n",
    "datetime"
   ]
  },
  {
   "cell_type": "code",
   "execution_count": 28,
   "id": "285df5d1",
   "metadata": {},
   "outputs": [
    {
     "data": {
      "text/plain": [
       "numpy.datetime64('2020-06-01T12:00:12.340000000')"
      ]
     },
     "execution_count": 28,
     "metadata": {},
     "output_type": "execute_result"
    }
   ],
   "source": [
    "datetime = np.datetime64('2020-06-01 12:00:12.34', 'ns')\n",
    "datetime"
   ]
  },
  {
   "cell_type": "markdown",
   "id": "d5f22c28",
   "metadata": {},
   "source": [
    "# 2. 배열 조회"
   ]
  },
  {
   "cell_type": "markdown",
   "id": "b968c416",
   "metadata": {},
   "source": [
    "## 배열 속성 정보"
   ]
  },
  {
   "cell_type": "code",
   "execution_count": 29,
   "id": "8c1fdcee",
   "metadata": {},
   "outputs": [],
   "source": [
    "def array_info(array):\n",
    "    print(array)\n",
    "    print('ndim :', array.ndim) # 디멘젼이 몇인지 나타내줌\n",
    "    print('shape : ', array.shape)\n",
    "    print('dtype : ', array.dtype)\n",
    "    print('size : ', array.size)\n",
    "    print('itemsize : ', array.itemsize)\n",
    "    print('nbytes : ', array.nbytes)\n",
    "    print('strides : ', array.strides)"
   ]
  },
  {
   "cell_type": "code",
   "execution_count": 30,
   "id": "6b782cbb",
   "metadata": {},
   "outputs": [
    {
     "name": "stdout",
     "output_type": "stream",
     "text": [
      "[4 5 6 4 5]\n",
      "ndim : 1\n",
      "shape :  (5,)\n",
      "dtype :  int32\n",
      "size :  5\n",
      "itemsize :  4\n",
      "nbytes :  20\n",
      "strides :  (4,)\n"
     ]
    }
   ],
   "source": [
    "array_info(a1)"
   ]
  },
  {
   "cell_type": "code",
   "execution_count": 31,
   "id": "b6d8796b",
   "metadata": {},
   "outputs": [
    {
     "name": "stdout",
     "output_type": "stream",
     "text": [
      "[[1 2 3]\n",
      " [4 5 6]\n",
      " [7 8 9]]\n",
      "ndim : 2\n",
      "shape :  (3, 3)\n",
      "dtype :  int32\n",
      "size :  9\n",
      "itemsize :  4\n",
      "nbytes :  36\n",
      "strides :  (12, 4)\n"
     ]
    }
   ],
   "source": [
    "array_info(a2)"
   ]
  },
  {
   "cell_type": "code",
   "execution_count": 32,
   "id": "0d37d6b8",
   "metadata": {},
   "outputs": [
    {
     "name": "stdout",
     "output_type": "stream",
     "text": [
      "[[[1 2 3]\n",
      "  [4 5 6]\n",
      "  [7 8 9]]\n",
      "\n",
      " [[1 2 3]\n",
      "  [4 5 6]\n",
      "  [7 8 9]]\n",
      "\n",
      " [[1 2 3]\n",
      "  [4 5 6]\n",
      "  [7 8 9]]]\n",
      "ndim : 3\n",
      "shape :  (3, 3, 3)\n",
      "dtype :  int32\n",
      "size :  27\n",
      "itemsize :  4\n",
      "nbytes :  108\n",
      "strides :  (36, 12, 4)\n"
     ]
    }
   ],
   "source": [
    "array_info(a3)"
   ]
  },
  {
   "cell_type": "markdown",
   "id": "65b1752d",
   "metadata": {},
   "source": [
    "## 인덱싱(Indexing)"
   ]
  },
  {
   "cell_type": "code",
   "execution_count": 33,
   "id": "eea06b34",
   "metadata": {},
   "outputs": [
    {
     "name": "stdout",
     "output_type": "stream",
     "text": [
      "[4 5 6 4 5]\n",
      "4\n",
      "6\n",
      "5\n",
      "4\n"
     ]
    }
   ],
   "source": [
    "print(a1)\n",
    "print(a1[0])\n",
    "print(a1[2])\n",
    "print(a1[-1])\n",
    "print(a1[-2])"
   ]
  },
  {
   "cell_type": "code",
   "execution_count": 34,
   "id": "b8cd613f",
   "metadata": {},
   "outputs": [
    {
     "name": "stdout",
     "output_type": "stream",
     "text": [
      "[[1 2 3]\n",
      " [4 5 6]\n",
      " [7 8 9]]\n",
      "1\n",
      "3\n",
      "5\n",
      "9\n"
     ]
    }
   ],
   "source": [
    "print(a2)\n",
    "print(a2[0, 0])\n",
    "print(a2[0, 2])\n",
    "print(a2[1, 1])\n",
    "print(a2[2, -1])"
   ]
  },
  {
   "cell_type": "code",
   "execution_count": 35,
   "id": "8a797569",
   "metadata": {},
   "outputs": [
    {
     "name": "stdout",
     "output_type": "stream",
     "text": [
      "[[[1 2 3]\n",
      "  [4 5 6]\n",
      "  [7 8 9]]\n",
      "\n",
      " [[1 2 3]\n",
      "  [4 5 6]\n",
      "  [7 8 9]]\n",
      "\n",
      " [[1 2 3]\n",
      "  [4 5 6]\n",
      "  [7 8 9]]]\n",
      "1\n",
      "5\n",
      "9\n",
      "9\n"
     ]
    }
   ],
   "source": [
    "print(a3)\n",
    "print(a3[0, 0, 0])\n",
    "print(a3[1, 1, 1])\n",
    "print(a3[2, 2, 2])\n",
    "print(a3[2, -1, -1])"
   ]
  },
  {
   "cell_type": "markdown",
   "id": "8101554f",
   "metadata": {},
   "source": [
    "## 슬라이싱(Slicing)"
   ]
  },
  {
   "cell_type": "markdown",
   "id": "b123e8f9",
   "metadata": {},
   "source": [
    "- 슬라이싱 구문 : a[start:stop:step]  \n",
    "- 기본값 : start = 0, stop = ndim, step = 1"
   ]
  },
  {
   "cell_type": "code",
   "execution_count": 36,
   "id": "21190d5c",
   "metadata": {},
   "outputs": [
    {
     "name": "stdout",
     "output_type": "stream",
     "text": [
      "[4 5 6 4 5]\n",
      "[4 5]\n",
      "[4 5 6 4 5]\n",
      "[4]\n",
      "[4 6 5]\n",
      "[5 4 6 5 4]\n"
     ]
    }
   ],
   "source": [
    "print(a1)\n",
    "print(a1[0:2])\n",
    "print(a1[0:])\n",
    "print(a1[:1])\n",
    "print(a1[::2])\n",
    "print(a1[::-1])"
   ]
  },
  {
   "cell_type": "code",
   "execution_count": 37,
   "id": "26dd8534",
   "metadata": {},
   "outputs": [
    {
     "name": "stdout",
     "output_type": "stream",
     "text": [
      "[[1 2 3]\n",
      " [4 5 6]\n",
      " [7 8 9]]\n",
      "[4 5 6]\n",
      "[4 5 6]\n",
      "[[1 2]\n",
      " [4 5]]\n",
      "[[6 5 4]\n",
      " [9 8 7]]\n",
      "[[9 8 7]\n",
      " [6 5 4]\n",
      " [3 2 1]]\n"
     ]
    }
   ],
   "source": [
    "print(a2)\n",
    "print(a2[1])\n",
    "print(a2[1, :])\n",
    "print(a2[:2, :2])\n",
    "print(a2[1:, ::-1])\n",
    "print(a2[::-1, ::-1])"
   ]
  },
  {
   "cell_type": "markdown",
   "id": "1c5b2f67",
   "metadata": {},
   "source": [
    "## 불리언 인덱싱(Boolean Indexing)\n",
    "- 배열 각 요소의 선택 여부를 불리언(True or False)로 지정  \n",
    "- True 값인 인덱스의 값만 조회"
   ]
  },
  {
   "cell_type": "code",
   "execution_count": 38,
   "id": "e412c2ff",
   "metadata": {},
   "outputs": [
    {
     "name": "stdout",
     "output_type": "stream",
     "text": [
      "[4 5 6 4 5]\n",
      "[5 6 5]\n",
      "[4 6 4]\n"
     ]
    }
   ],
   "source": [
    "print(a1)\n",
    "bi = [False, True, True, False, True]\n",
    "print(a1[bi])\n",
    "bi = [True, False, True, True, False]\n",
    "print(a1[bi])"
   ]
  },
  {
   "cell_type": "code",
   "execution_count": 39,
   "id": "ebb2f516",
   "metadata": {},
   "outputs": [
    {
     "name": "stdout",
     "output_type": "stream",
     "text": [
      "[[1 2 3]\n",
      " [4 5 6]\n",
      " [7 8 9]]\n",
      "[[False  True False]\n",
      " [False  True False]\n",
      " [ True  True False]]\n",
      "[2 5 7 8]\n"
     ]
    }
   ],
   "source": [
    "print(a2)\n",
    "bi = np.random.randint(0, 2, (3, 3), dtype=bool)\n",
    "print(bi)\n",
    "print(a2[bi])"
   ]
  },
  {
   "cell_type": "markdown",
   "id": "18bba4cf",
   "metadata": {},
   "source": [
    "## 펜시 인덱싱(Fancy Indexing)"
   ]
  },
  {
   "cell_type": "code",
   "execution_count": 40,
   "id": "e88c41ee",
   "metadata": {},
   "outputs": [
    {
     "name": "stdout",
     "output_type": "stream",
     "text": [
      "[4 5 6 4 5]\n",
      "[4, 6]\n",
      "[4 6]\n",
      "[[4 5]\n",
      " [6 4]]\n"
     ]
    }
   ],
   "source": [
    "print(a1)\n",
    "print([a1[0], a1[2]])\n",
    "ind = [0, 2]\n",
    "print(a1[ind])\n",
    "ind = np.array([[0, 1],\n",
    "               [2, 0]])\n",
    "print(a1[ind])"
   ]
  },
  {
   "cell_type": "code",
   "execution_count": 41,
   "id": "e24f9f08",
   "metadata": {
    "scrolled": true
   },
   "outputs": [
    {
     "name": "stdout",
     "output_type": "stream",
     "text": [
      "[[1 2 3]\n",
      " [4 5 6]\n",
      " [7 8 9]]\n",
      "[2 9]\n",
      "[[1 2 3]\n",
      " [7 8 9]]\n",
      "[[2 3]\n",
      " [5 6]\n",
      " [8 9]]\n",
      "[2 8]\n",
      "[8 9]\n",
      "[[2 3]\n",
      " [8 9]]\n",
      "[[5 6]\n",
      " [8 9]]\n"
     ]
    }
   ],
   "source": [
    "print(a2)\n",
    "row = np.array([0, 2])\n",
    "col = np.array([1, 2])\n",
    "print(a2[row, col])\n",
    "print(a2[row, :])\n",
    "print(a2[:, col])\n",
    "print(a2[row, 1])\n",
    "print(a2[2, col])\n",
    "print(a2[row, 1:])\n",
    "print(a2[1:, col])"
   ]
  },
  {
   "cell_type": "markdown",
   "id": "deabc8c8",
   "metadata": {},
   "source": [
    "## 3. 배열 값 삽입/수정/삭제/복사"
   ]
  },
  {
   "cell_type": "markdown",
   "id": "4563d770",
   "metadata": {},
   "source": [
    "### 배열 값 삽입\n",
    "- insert(): 배열의 특정 위치에 값 삽입  \n",
    "- axis를 지정하지 않으면 1차원 배열로 변환  \n",
    "- 추가할 방향을 axis로 지정  \n",
    "- 원본 배열 변경없이 새로운 배열 반환"
   ]
  },
  {
   "cell_type": "code",
   "execution_count": 48,
   "id": "6a229d28",
   "metadata": {},
   "outputs": [
    {
     "name": "stdout",
     "output_type": "stream",
     "text": [
      "[4 5 6 4 5]\n",
      "[10  4  5  6  4  5]\n",
      "[ 4  5 10  6  4  5]\n"
     ]
    }
   ],
   "source": [
    "print(a1)\n",
    "b1 = np.insert(a1, 0, 10)\n",
    "print(b1)\n",
    "c1 = np.insert(a1, 2, 10)\n",
    "print(c1)"
   ]
  },
  {
   "cell_type": "code",
   "execution_count": 49,
   "id": "591360fd",
   "metadata": {},
   "outputs": [
    {
     "name": "stdout",
     "output_type": "stream",
     "text": [
      "[[1 2 3]\n",
      " [4 5 6]\n",
      " [7 8 9]]\n",
      "[[ 1  2  3]\n",
      " [10 10 10]\n",
      " [ 4  5  6]\n",
      " [ 7  8  9]]\n",
      "[[ 1 10  2  3]\n",
      " [ 4 10  5  6]\n",
      " [ 7 10  8  9]]\n"
     ]
    }
   ],
   "source": [
    "print(a2)\n",
    "b2 = np.insert(a2, 1, 10, axis=0)\n",
    "print(b2)\n",
    "c2 = np.insert(a2, 1, 10, axis=1)\n",
    "print(c2)"
   ]
  },
  {
   "cell_type": "markdown",
   "id": "25874fe2",
   "metadata": {},
   "source": [
    "### 배열 값 수정\n",
    "- 배열의 인덱싱으로 접근하여 값 수정"
   ]
  },
  {
   "cell_type": "code",
   "execution_count": 55,
   "id": "8380f87b",
   "metadata": {},
   "outputs": [
    {
     "name": "stdout",
     "output_type": "stream",
     "text": [
      "[9 0 3 0 0]\n",
      "[1 2 3 0 0]\n",
      "[9 2 3 0 0]\n",
      "[9 0 3 0 0]\n",
      "[9 4 3 4 4]\n"
     ]
    }
   ],
   "source": [
    "print(a1)\n",
    "a1[0] = 1\n",
    "a1[1] = 2\n",
    "a1[2] = 3\n",
    "print(a1)\n",
    "a1[:1] = 9\n",
    "print(a1)\n",
    "i = np.array([1, 3, 4]) # 팬시 인덱싱\n",
    "a1[i] = 0\n",
    "print(a1)\n",
    "a1[i] += 4\n",
    "print(a1)"
   ]
  },
  {
   "cell_type": "code",
   "execution_count": 59,
   "id": "e838f0a4",
   "metadata": {},
   "outputs": [
    {
     "name": "stdout",
     "output_type": "stream",
     "text": [
      "[[1 0 1]\n",
      " [4 2 0]\n",
      " [7 8 9]]\n",
      "[[1 1 1]\n",
      " [4 2 0]\n",
      " [7 8 3]]\n",
      "[[1 1 1]\n",
      " [4 2 9]\n",
      " [7 8 9]]\n",
      "[[1 0 1]\n",
      " [4 2 0]\n",
      " [7 8 9]]\n"
     ]
    }
   ],
   "source": [
    "print(a2)\n",
    "a2[0, 0] = 1\n",
    "a2[1, 1] = 2\n",
    "a2[2, 2] = 3\n",
    "a2[0] = 1\n",
    "print(a2)\n",
    "a2[1:, 2] = 9\n",
    "print(a2)\n",
    "row = np.array([0, 1])\n",
    "col = np.array([1, 2])\n",
    "a2[row, col] = 0 # 팬시 인덱싱\n",
    "print(a2)"
   ]
  },
  {
   "cell_type": "markdown",
   "id": "ec63495d",
   "metadata": {},
   "source": [
    "### 배열 값 삭제\n",
    "- delete() : 배열의 특정 위치에 값 삭제  \n",
    "- axis를 지정하지 않으면 1차원 배열로 전환  \n",
    "- 삭제할 방향을 axis로 지정  \n",
    "- 원본 배열 변경없이 새로운 배열 반환"
   ]
  },
  {
   "cell_type": "code",
   "execution_count": 62,
   "id": "a9e2150b",
   "metadata": {},
   "outputs": [
    {
     "name": "stdout",
     "output_type": "stream",
     "text": [
      "[9 4 3 4 4]\n",
      "[9 3 4 4]\n",
      "[9 4 3 4 4]\n"
     ]
    }
   ],
   "source": [
    "print(a1)\n",
    "b1 = np.delete(a1, 1)\n",
    "print(b1)\n",
    "print(a1)"
   ]
  },
  {
   "cell_type": "code",
   "execution_count": 65,
   "id": "716c2a66",
   "metadata": {},
   "outputs": [
    {
     "name": "stdout",
     "output_type": "stream",
     "text": [
      "[[1 0 1]\n",
      " [4 2 0]\n",
      " [7 8 9]]\n",
      "[[1 0 1]\n",
      " [7 8 9]]\n",
      "[[1 1]\n",
      " [4 0]\n",
      " [7 9]]\n"
     ]
    }
   ],
   "source": [
    "print(a2)\n",
    "b2 = np.delete(a2, 1, axis=0)\n",
    "print(b2)\n",
    "c2 = np.delete(a2, 1, axis=1)\n",
    "print(c2)"
   ]
  },
  {
   "cell_type": "markdown",
   "id": "f783d990",
   "metadata": {},
   "source": [
    "### 배열 복사\n",
    " - 리스트 자료형과 달리 배열의 슬라이스는 복사본이 아님"
   ]
  },
  {
   "cell_type": "code",
   "execution_count": 69,
   "id": "9177c020",
   "metadata": {},
   "outputs": [
    {
     "name": "stdout",
     "output_type": "stream",
     "text": [
      "[[1 0 1]\n",
      " [4 0 0]\n",
      " [7 8 9]]\n",
      "[[1 0]\n",
      " [4 0]]\n",
      "[[1 0]\n",
      " [4 0]]\n",
      "[[1 0]\n",
      " [4 0]]\n",
      "[[1 0 1]\n",
      " [4 0 0]\n",
      " [7 8 9]]\n"
     ]
    }
   ],
   "source": [
    "print(a2)\n",
    "print(a2[:2, :2])\n",
    "a2_sub = a2[:2, :2] # copy() 를 안쓰면 원본까지 바뀜\n",
    "print(a2_sub)\n",
    "a2_sub[:, 1] = 0\n",
    "print(a2_sub)\n",
    "print(a2)"
   ]
  },
  {
   "cell_type": "markdown",
   "id": "6b790f4d",
   "metadata": {},
   "source": [
    "- copy() : 배열이나 하위 배열 내의 값을 명시적으로 복사"
   ]
  },
  {
   "cell_type": "code",
   "execution_count": 71,
   "id": "683e099a",
   "metadata": {},
   "outputs": [
    {
     "name": "stdout",
     "output_type": "stream",
     "text": [
      "[[1 0 1]\n",
      " [4 0 0]\n",
      " [7 8 9]]\n",
      "[[1 0]\n",
      " [4 0]]\n",
      "[[1 1]\n",
      " [4 1]]\n",
      "[[1 0 1]\n",
      " [4 0 0]\n",
      " [7 8 9]]\n"
     ]
    }
   ],
   "source": [
    "print(a2)\n",
    "a2_sub_copy = a2[:2, :2].copy() # copy() 를 써서 원본 안바뀜\n",
    "print(a2_sub_copy)\n",
    "a2_sub_copy[:, 1] = 1\n",
    "print(a2_sub_copy)\n",
    "print(a2)"
   ]
  },
  {
   "cell_type": "markdown",
   "id": "728c4b2c",
   "metadata": {},
   "source": [
    "## 4. 배열 변환"
   ]
  },
  {
   "cell_type": "markdown",
   "id": "07e187f5",
   "metadata": {},
   "source": [
    "### 배열 전치 및 축 변경"
   ]
  },
  {
   "cell_type": "code",
   "execution_count": 72,
   "id": "0b381998",
   "metadata": {},
   "outputs": [
    {
     "name": "stdout",
     "output_type": "stream",
     "text": [
      "[[1 0 1]\n",
      " [4 0 0]\n",
      " [7 8 9]]\n",
      "[[1 4 7]\n",
      " [0 0 8]\n",
      " [1 0 9]]\n"
     ]
    }
   ],
   "source": [
    "print(a2)\n",
    "print(a2.T)"
   ]
  },
  {
   "cell_type": "code",
   "execution_count": 73,
   "id": "72a68100",
   "metadata": {},
   "outputs": [
    {
     "name": "stdout",
     "output_type": "stream",
     "text": [
      "[[[1 2 3]\n",
      "  [4 5 6]\n",
      "  [7 8 9]]\n",
      "\n",
      " [[1 2 3]\n",
      "  [4 5 6]\n",
      "  [7 8 9]]\n",
      "\n",
      " [[1 2 3]\n",
      "  [4 5 6]\n",
      "  [7 8 9]]]\n",
      "[[[1 1 1]\n",
      "  [4 4 4]\n",
      "  [7 7 7]]\n",
      "\n",
      " [[2 2 2]\n",
      "  [5 5 5]\n",
      "  [8 8 8]]\n",
      "\n",
      " [[3 3 3]\n",
      "  [6 6 6]\n",
      "  [9 9 9]]]\n"
     ]
    }
   ],
   "source": [
    "print(a3)\n",
    "print(a3.T)"
   ]
  },
  {
   "cell_type": "code",
   "execution_count": 74,
   "id": "f66deb14",
   "metadata": {},
   "outputs": [
    {
     "name": "stdout",
     "output_type": "stream",
     "text": [
      "[[1 0 1]\n",
      " [4 0 0]\n",
      " [7 8 9]]\n",
      "[[1 4 7]\n",
      " [0 0 8]\n",
      " [1 0 9]]\n"
     ]
    }
   ],
   "source": [
    "print(a2)\n",
    "print(a2.swapaxes(1, 0))"
   ]
  },
  {
   "cell_type": "code",
   "execution_count": 75,
   "id": "db8f4d04",
   "metadata": {},
   "outputs": [
    {
     "name": "stdout",
     "output_type": "stream",
     "text": [
      "[[[1 2 3]\n",
      "  [4 5 6]\n",
      "  [7 8 9]]\n",
      "\n",
      " [[1 2 3]\n",
      "  [4 5 6]\n",
      "  [7 8 9]]\n",
      "\n",
      " [[1 2 3]\n",
      "  [4 5 6]\n",
      "  [7 8 9]]]\n",
      "[[[1 2 3]\n",
      "  [1 2 3]\n",
      "  [1 2 3]]\n",
      "\n",
      " [[4 5 6]\n",
      "  [4 5 6]\n",
      "  [4 5 6]]\n",
      "\n",
      " [[7 8 9]\n",
      "  [7 8 9]\n",
      "  [7 8 9]]]\n",
      "[[[1 4 7]\n",
      "  [2 5 8]\n",
      "  [3 6 9]]\n",
      "\n",
      " [[1 4 7]\n",
      "  [2 5 8]\n",
      "  [3 6 9]]\n",
      "\n",
      " [[1 4 7]\n",
      "  [2 5 8]\n",
      "  [3 6 9]]]\n"
     ]
    }
   ],
   "source": [
    "print(a3)\n",
    "print(a3.swapaxes(0, 1))\n",
    "print(a3.swapaxes(1, 2))"
   ]
  },
  {
   "cell_type": "markdown",
   "id": "bc1fd374",
   "metadata": {},
   "source": [
    "### 배열 재구조화"
   ]
  },
  {
   "cell_type": "markdown",
   "id": "73866676",
   "metadata": {},
   "source": [
    "- reshape() : 배열의 형상을 변경"
   ]
  },
  {
   "cell_type": "code",
   "execution_count": 77,
   "id": "94ebcb86",
   "metadata": {},
   "outputs": [
    {
     "name": "stdout",
     "output_type": "stream",
     "text": [
      "[1 2 3 4 5 6 7 8 9]\n",
      "[[1 2 3]\n",
      " [4 5 6]\n",
      " [7 8 9]]\n"
     ]
    }
   ],
   "source": [
    "n1 = np.arange(1, 10)\n",
    "print(n1)\n",
    "print(n1.reshape(3, 3))"
   ]
  },
  {
   "cell_type": "markdown",
   "id": "0aac6d43",
   "metadata": {},
   "source": [
    "- newaxis() : 새로운 축 추가"
   ]
  },
  {
   "cell_type": "code",
   "execution_count": 79,
   "id": "76477345",
   "metadata": {},
   "outputs": [
    {
     "name": "stdout",
     "output_type": "stream",
     "text": [
      "[1 2 3 4 5 6 7 8 9]\n",
      "[[1 2 3 4 5]]\n",
      "[[1]\n",
      " [2]\n",
      " [3]\n",
      " [4]\n",
      " [5]]\n"
     ]
    }
   ],
   "source": [
    "print(n1)\n",
    "print(n1[np.newaxis, :5])\n",
    "print(n1[:5, np.newaxis])"
   ]
  },
  {
   "cell_type": "markdown",
   "id": "38628f94",
   "metadata": {},
   "source": [
    "### 배열 크기 변경"
   ]
  },
  {
   "cell_type": "markdown",
   "id": "35818994",
   "metadata": {},
   "source": [
    "- 배열 모양만 변경"
   ]
  },
  {
   "cell_type": "code",
   "execution_count": 84,
   "id": "442b4557",
   "metadata": {},
   "outputs": [
    {
     "name": "stdout",
     "output_type": "stream",
     "text": [
      "[[9 3 9 4 7]\n",
      " [6 0 7 9 6]]\n",
      "[[9 3]\n",
      " [9 4]\n",
      " [7 6]\n",
      " [0 7]\n",
      " [9 6]]\n"
     ]
    }
   ],
   "source": [
    "n2 = np.random.randint(0, 10, (2, 5))\n",
    "print(n2)\n",
    "n2.resize((5, 2))\n",
    "print(n2)"
   ]
  },
  {
   "cell_type": "markdown",
   "id": "8914e1cd",
   "metadata": {},
   "source": [
    "- 배열 크기 증가  \n",
    "- 남은 공간은 0으로 채워짐"
   ]
  },
  {
   "cell_type": "code",
   "execution_count": 86,
   "id": "d9bad5fa",
   "metadata": {},
   "outputs": [
    {
     "name": "stdout",
     "output_type": "stream",
     "text": [
      "[[9 3 9 4 7]\n",
      " [6 0 7 9 6]\n",
      " [0 0 0 0 0]\n",
      " [0 0 0 0 0]\n",
      " [0 0 0 0 0]]\n"
     ]
    }
   ],
   "source": [
    "n2.resize((5, 5))\n",
    "print(n2)"
   ]
  },
  {
   "cell_type": "markdown",
   "id": "3c46ea04",
   "metadata": {},
   "source": [
    "- 배열 크기 감소  \n",
    "- 포함되지 않은 값은 삭제됨"
   ]
  },
  {
   "cell_type": "code",
   "execution_count": 87,
   "id": "899e239f",
   "metadata": {},
   "outputs": [
    {
     "name": "stdout",
     "output_type": "stream",
     "text": [
      "[[9 3 9]\n",
      " [4 7 6]\n",
      " [0 7 9]]\n"
     ]
    }
   ],
   "source": [
    "n2.resize((3, 3))\n",
    "print(n2)"
   ]
  },
  {
   "cell_type": "markdown",
   "id": "b85d2558",
   "metadata": {},
   "source": [
    "### 배열 추가"
   ]
  },
  {
   "cell_type": "markdown",
   "id": "180e8b2d",
   "metadata": {},
   "source": [
    "- append() : 배열의 끝에 값 추가"
   ]
  },
  {
   "cell_type": "code",
   "execution_count": 88,
   "id": "81cb5ba9",
   "metadata": {},
   "outputs": [
    {
     "name": "stdout",
     "output_type": "stream",
     "text": [
      "[[1 2 3]\n",
      " [4 5 6]\n",
      " [7 8 9]]\n",
      "[[10 11 12]\n",
      " [13 14 15]\n",
      " [16 17 18]]\n"
     ]
    }
   ],
   "source": [
    "a2 = np.arange(1, 10).reshape(3, 3)\n",
    "print(a2)\n",
    "b2 = np.arange(10, 19).reshape(3, 3)\n",
    "print(b2)"
   ]
  },
  {
   "cell_type": "markdown",
   "id": "bf609655",
   "metadata": {},
   "source": [
    "- axis 지정이 없으면 1차원 배열 형태로 변형되어 결합"
   ]
  },
  {
   "cell_type": "code",
   "execution_count": 90,
   "id": "3bb0156a",
   "metadata": {},
   "outputs": [
    {
     "name": "stdout",
     "output_type": "stream",
     "text": [
      "[ 1  2  3  4  5  6  7  8  9 10 11 12 13 14 15 16 17 18]\n"
     ]
    }
   ],
   "source": [
    "c2 = np.append(a2, b2)\n",
    "print(c2)"
   ]
  },
  {
   "cell_type": "markdown",
   "id": "24246d3c",
   "metadata": {},
   "source": [
    "- axis를 0으로 지정  \n",
    "- shape[0]을 제외한 나머지 shape은 같아야 함"
   ]
  },
  {
   "cell_type": "code",
   "execution_count": 91,
   "id": "0a6d3a59",
   "metadata": {},
   "outputs": [
    {
     "name": "stdout",
     "output_type": "stream",
     "text": [
      "[[ 1  2  3]\n",
      " [ 4  5  6]\n",
      " [ 7  8  9]\n",
      " [10 11 12]\n",
      " [13 14 15]\n",
      " [16 17 18]]\n"
     ]
    }
   ],
   "source": [
    "c2 = np.append(a2, b2, axis=0)\n",
    "print(c2)"
   ]
  },
  {
   "cell_type": "markdown",
   "id": "85fa1b63",
   "metadata": {},
   "source": [
    "- axis를 1로 지정  \n",
    "- shape[1]을 제외한 나머지 shape은 같아야 함"
   ]
  },
  {
   "cell_type": "code",
   "execution_count": 92,
   "id": "de07bb79",
   "metadata": {},
   "outputs": [
    {
     "name": "stdout",
     "output_type": "stream",
     "text": [
      "[[ 1  2  3 10 11 12]\n",
      " [ 4  5  6 13 14 15]\n",
      " [ 7  8  9 16 17 18]]\n"
     ]
    }
   ],
   "source": [
    "c2 = np.append(a2, b2, axis=1)\n",
    "print(c2)"
   ]
  }
 ],
 "metadata": {
  "kernelspec": {
   "display_name": "Python 3 (ipykernel)",
   "language": "python",
   "name": "python3"
  },
  "language_info": {
   "codemirror_mode": {
    "name": "ipython",
    "version": 3
   },
   "file_extension": ".py",
   "mimetype": "text/x-python",
   "name": "python",
   "nbconvert_exporter": "python",
   "pygments_lexer": "ipython3",
   "version": "3.9.7"
  }
 },
 "nbformat": 4,
 "nbformat_minor": 5
}
